{
  "cells": [
    {
      "cell_type": "code",
      "execution_count": 1,
      "metadata": {
        "id": "ndgeTlFcv1Qw"
      },
      "outputs": [],
      "source": [
        "import math\n",
        "import numpy as np\n",
        "import pandas as pd\n",
        "from datetime import datetime\n",
        "from scipy import stats\n",
        "\n",
        "import seaborn as sns\n",
        "import matplotlib.pyplot as plt\n",
        "%matplotlib inline \n",
        "plt.style.use('seaborn-whitegrid')\n",
        "\n",
        "from sklearn.model_selection import train_test_split\n",
        "from sklearn.linear_model import LinearRegression\n",
        "from sklearn import metrics\n",
        "from sklearn.ensemble import RandomForestRegressor,  GradientBoostingRegressor\n",
        "from sklearn.metrics import mean_squared_error\n",
        "from sklearn.model_selection import KFold, cross_val_score\n",
        "from sklearn.metrics import mean_squared_error\n",
        "from sklearn.metrics import precision_score\n",
        "from sklearn.metrics import confusion_matrix\n",
        "from sklearn.metrics import recall_score\n",
        "#import statsmodels.api as sm"
      ]
    },
    {
      "cell_type": "markdown",
      "source": [
        "# Новый раздел"
      ],
      "metadata": {
        "id": "5G1kmmC6CdAy"
      }
    },
    {
      "cell_type": "code",
      "execution_count": 2,
      "metadata": {
        "colab": {
          "base_uri": "https://localhost:8080/"
        },
        "id": "csx_nR4Tv1Q3",
        "outputId": "09f2d130-95df-4cc2-e401-9bf58ea4b1e3"
      },
      "outputs": [
        {
          "output_type": "stream",
          "name": "stdout",
          "text": [
            "<class 'pandas.core.frame.DataFrame'>\n",
            "RangeIndex: 247 entries, 0 to 246\n",
            "Data columns (total 11 columns):\n",
            " #   Column                  Non-Null Count  Dtype         \n",
            "---  ------                  --------------  -----         \n",
            " 0   НомерДокумента          247 non-null    object        \n",
            " 1   ФактическаяДатаПлатежа  247 non-null    datetime64[ns]\n",
            " 2   ДатаПлатежаПоДоговору   247 non-null    datetime64[ns]\n",
            " 3   Сумма                   247 non-null    float64       \n",
            " 4   Контрагент              247 non-null    int64         \n",
            " 5   Просрочка               247 non-null    int64         \n",
            " 6   ОКВЭД                   247 non-null    object        \n",
            " 7   ГруппаОКВЭД             247 non-null    object        \n",
            " 8   ГодРегистрацииК/а       247 non-null    int64         \n",
            " 9   ГруппаКомпаний          247 non-null    object        \n",
            " 10  ДниПросрочки            247 non-null    int64         \n",
            "dtypes: datetime64[ns](2), float64(1), int64(4), object(4)\n",
            "memory usage: 21.4+ KB\n"
          ]
        }
      ],
      "source": [
        "df_receivable = pd.read_excel('/content/Данные проект v2.xlsx')\n",
        "#df.dropna(inplace=True)\n",
        "df_receivable.info()"
      ]
    },
    {
      "cell_type": "code",
      "execution_count": 3,
      "metadata": {
        "colab": {
          "base_uri": "https://localhost:8080/",
          "height": 222
        },
        "id": "h0AwAJw1v1Q6",
        "outputId": "86a3b75f-b432-451a-cdaf-90efdd19bfe5"
      },
      "outputs": [
        {
          "output_type": "execute_result",
          "data": {
            "text/plain": [
              "                                      НомерДокумента ФактическаяДатаПлатежа  \\\n",
              "0  Документ расчетов с контрагентом МТ00-00000000...             2022-03-11   \n",
              "1  Реализация (акт, накладная, УПД) МТ00-00000000...             2022-03-16   \n",
              "2  Реализация (акт, накладная, УПД) МТ00-00000000...             2022-04-13   \n",
              "\n",
              "  ДатаПлатежаПоДоговору     Сумма  Контрагент  Просрочка  ОКВЭД ГруппаОКВЭД  \\\n",
              "0            2022-03-31   5175.84           1          0      0         н/д   \n",
              "1            2022-03-31  17569.40           2          0  73.11     Реклама   \n",
              "2            2022-04-30  62889.16           2          0  73.11     Реклама   \n",
              "\n",
              "   ГодРегистрацииК/а ГруппаКомпаний  ДниПросрочки  \n",
              "0                  0            нет            19  \n",
              "1               2017            нет            14  \n",
              "2               2017            нет            16  "
            ],
            "text/html": [
              "\n",
              "  <div id=\"df-d3c6c9d8-f052-40e5-b15c-145793abbace\">\n",
              "    <div class=\"colab-df-container\">\n",
              "      <div>\n",
              "<style scoped>\n",
              "    .dataframe tbody tr th:only-of-type {\n",
              "        vertical-align: middle;\n",
              "    }\n",
              "\n",
              "    .dataframe tbody tr th {\n",
              "        vertical-align: top;\n",
              "    }\n",
              "\n",
              "    .dataframe thead th {\n",
              "        text-align: right;\n",
              "    }\n",
              "</style>\n",
              "<table border=\"1\" class=\"dataframe\">\n",
              "  <thead>\n",
              "    <tr style=\"text-align: right;\">\n",
              "      <th></th>\n",
              "      <th>НомерДокумента</th>\n",
              "      <th>ФактическаяДатаПлатежа</th>\n",
              "      <th>ДатаПлатежаПоДоговору</th>\n",
              "      <th>Сумма</th>\n",
              "      <th>Контрагент</th>\n",
              "      <th>Просрочка</th>\n",
              "      <th>ОКВЭД</th>\n",
              "      <th>ГруппаОКВЭД</th>\n",
              "      <th>ГодРегистрацииК/а</th>\n",
              "      <th>ГруппаКомпаний</th>\n",
              "      <th>ДниПросрочки</th>\n",
              "    </tr>\n",
              "  </thead>\n",
              "  <tbody>\n",
              "    <tr>\n",
              "      <th>0</th>\n",
              "      <td>Документ расчетов с контрагентом МТ00-00000000...</td>\n",
              "      <td>2022-03-11</td>\n",
              "      <td>2022-03-31</td>\n",
              "      <td>5175.84</td>\n",
              "      <td>1</td>\n",
              "      <td>0</td>\n",
              "      <td>0</td>\n",
              "      <td>н/д</td>\n",
              "      <td>0</td>\n",
              "      <td>нет</td>\n",
              "      <td>19</td>\n",
              "    </tr>\n",
              "    <tr>\n",
              "      <th>1</th>\n",
              "      <td>Реализация (акт, накладная, УПД) МТ00-00000000...</td>\n",
              "      <td>2022-03-16</td>\n",
              "      <td>2022-03-31</td>\n",
              "      <td>17569.40</td>\n",
              "      <td>2</td>\n",
              "      <td>0</td>\n",
              "      <td>73.11</td>\n",
              "      <td>Реклама</td>\n",
              "      <td>2017</td>\n",
              "      <td>нет</td>\n",
              "      <td>14</td>\n",
              "    </tr>\n",
              "    <tr>\n",
              "      <th>2</th>\n",
              "      <td>Реализация (акт, накладная, УПД) МТ00-00000000...</td>\n",
              "      <td>2022-04-13</td>\n",
              "      <td>2022-04-30</td>\n",
              "      <td>62889.16</td>\n",
              "      <td>2</td>\n",
              "      <td>0</td>\n",
              "      <td>73.11</td>\n",
              "      <td>Реклама</td>\n",
              "      <td>2017</td>\n",
              "      <td>нет</td>\n",
              "      <td>16</td>\n",
              "    </tr>\n",
              "  </tbody>\n",
              "</table>\n",
              "</div>\n",
              "      <button class=\"colab-df-convert\" onclick=\"convertToInteractive('df-d3c6c9d8-f052-40e5-b15c-145793abbace')\"\n",
              "              title=\"Convert this dataframe to an interactive table.\"\n",
              "              style=\"display:none;\">\n",
              "        \n",
              "  <svg xmlns=\"http://www.w3.org/2000/svg\" height=\"24px\"viewBox=\"0 0 24 24\"\n",
              "       width=\"24px\">\n",
              "    <path d=\"M0 0h24v24H0V0z\" fill=\"none\"/>\n",
              "    <path d=\"M18.56 5.44l.94 2.06.94-2.06 2.06-.94-2.06-.94-.94-2.06-.94 2.06-2.06.94zm-11 1L8.5 8.5l.94-2.06 2.06-.94-2.06-.94L8.5 2.5l-.94 2.06-2.06.94zm10 10l.94 2.06.94-2.06 2.06-.94-2.06-.94-.94-2.06-.94 2.06-2.06.94z\"/><path d=\"M17.41 7.96l-1.37-1.37c-.4-.4-.92-.59-1.43-.59-.52 0-1.04.2-1.43.59L10.3 9.45l-7.72 7.72c-.78.78-.78 2.05 0 2.83L4 21.41c.39.39.9.59 1.41.59.51 0 1.02-.2 1.41-.59l7.78-7.78 2.81-2.81c.8-.78.8-2.07 0-2.86zM5.41 20L4 18.59l7.72-7.72 1.47 1.35L5.41 20z\"/>\n",
              "  </svg>\n",
              "      </button>\n",
              "      \n",
              "  <style>\n",
              "    .colab-df-container {\n",
              "      display:flex;\n",
              "      flex-wrap:wrap;\n",
              "      gap: 12px;\n",
              "    }\n",
              "\n",
              "    .colab-df-convert {\n",
              "      background-color: #E8F0FE;\n",
              "      border: none;\n",
              "      border-radius: 50%;\n",
              "      cursor: pointer;\n",
              "      display: none;\n",
              "      fill: #1967D2;\n",
              "      height: 32px;\n",
              "      padding: 0 0 0 0;\n",
              "      width: 32px;\n",
              "    }\n",
              "\n",
              "    .colab-df-convert:hover {\n",
              "      background-color: #E2EBFA;\n",
              "      box-shadow: 0px 1px 2px rgba(60, 64, 67, 0.3), 0px 1px 3px 1px rgba(60, 64, 67, 0.15);\n",
              "      fill: #174EA6;\n",
              "    }\n",
              "\n",
              "    [theme=dark] .colab-df-convert {\n",
              "      background-color: #3B4455;\n",
              "      fill: #D2E3FC;\n",
              "    }\n",
              "\n",
              "    [theme=dark] .colab-df-convert:hover {\n",
              "      background-color: #434B5C;\n",
              "      box-shadow: 0px 1px 3px 1px rgba(0, 0, 0, 0.15);\n",
              "      filter: drop-shadow(0px 1px 2px rgba(0, 0, 0, 0.3));\n",
              "      fill: #FFFFFF;\n",
              "    }\n",
              "  </style>\n",
              "\n",
              "      <script>\n",
              "        const buttonEl =\n",
              "          document.querySelector('#df-d3c6c9d8-f052-40e5-b15c-145793abbace button.colab-df-convert');\n",
              "        buttonEl.style.display =\n",
              "          google.colab.kernel.accessAllowed ? 'block' : 'none';\n",
              "\n",
              "        async function convertToInteractive(key) {\n",
              "          const element = document.querySelector('#df-d3c6c9d8-f052-40e5-b15c-145793abbace');\n",
              "          const dataTable =\n",
              "            await google.colab.kernel.invokeFunction('convertToInteractive',\n",
              "                                                     [key], {});\n",
              "          if (!dataTable) return;\n",
              "\n",
              "          const docLinkHtml = 'Like what you see? Visit the ' +\n",
              "            '<a target=\"_blank\" href=https://colab.research.google.com/notebooks/data_table.ipynb>data table notebook</a>'\n",
              "            + ' to learn more about interactive tables.';\n",
              "          element.innerHTML = '';\n",
              "          dataTable['output_type'] = 'display_data';\n",
              "          await google.colab.output.renderOutput(dataTable, element);\n",
              "          const docLink = document.createElement('div');\n",
              "          docLink.innerHTML = docLinkHtml;\n",
              "          element.appendChild(docLink);\n",
              "        }\n",
              "      </script>\n",
              "    </div>\n",
              "  </div>\n",
              "  "
            ]
          },
          "metadata": {},
          "execution_count": 3
        }
      ],
      "source": [
        "df_receivable.head(3)"
      ]
    },
    {
      "cell_type": "code",
      "execution_count": 4,
      "metadata": {
        "id": "MnZJikc4v1Q7"
      },
      "outputs": [],
      "source": [
        "df_receivable['ФактическаяДатаПлатежа']= pd.to_datetime(df_receivable.ФактическаяДатаПлатежа)"
      ]
    },
    {
      "cell_type": "code",
      "execution_count": 5,
      "metadata": {
        "id": "BTNIhYex5lXd"
      },
      "outputs": [],
      "source": [
        "df_receivable.drop(columns = ['ДниПросрочки'],axis = 1, inplace=True)"
      ]
    },
    {
      "cell_type": "code",
      "execution_count": 6,
      "metadata": {
        "colab": {
          "base_uri": "https://localhost:8080/",
          "height": 144
        },
        "id": "bv1gSCU6v1Q8",
        "outputId": "561db39a-79d3-4705-de74-10eaff5f9145"
      },
      "outputs": [
        {
          "output_type": "execute_result",
          "data": {
            "text/plain": [
              "                                      НомерДокумента ФактическаяДатаПлатежа  \\\n",
              "0  Документ расчетов с контрагентом МТ00-00000000...             2022-03-11   \n",
              "1  Реализация (акт, накладная, УПД) МТ00-00000000...             2022-03-16   \n",
              "2  Реализация (акт, накладная, УПД) МТ00-00000000...             2022-04-13   \n",
              "\n",
              "  ДатаПлатежаПоДоговору     Сумма  Контрагент  Просрочка  ОКВЭД ГруппаОКВЭД  \\\n",
              "0            2022-03-31   5175.84           1          0      0         н/д   \n",
              "1            2022-03-31  17569.40           2          0  73.11     Реклама   \n",
              "2            2022-04-30  62889.16           2          0  73.11     Реклама   \n",
              "\n",
              "   ГодРегистрацииК/а ГруппаКомпаний  \n",
              "0                  0            нет  \n",
              "1               2017            нет  \n",
              "2               2017            нет  "
            ],
            "text/html": [
              "\n",
              "  <div id=\"df-d3a5949d-7230-4933-ae4f-5c770cbdd895\">\n",
              "    <div class=\"colab-df-container\">\n",
              "      <div>\n",
              "<style scoped>\n",
              "    .dataframe tbody tr th:only-of-type {\n",
              "        vertical-align: middle;\n",
              "    }\n",
              "\n",
              "    .dataframe tbody tr th {\n",
              "        vertical-align: top;\n",
              "    }\n",
              "\n",
              "    .dataframe thead th {\n",
              "        text-align: right;\n",
              "    }\n",
              "</style>\n",
              "<table border=\"1\" class=\"dataframe\">\n",
              "  <thead>\n",
              "    <tr style=\"text-align: right;\">\n",
              "      <th></th>\n",
              "      <th>НомерДокумента</th>\n",
              "      <th>ФактическаяДатаПлатежа</th>\n",
              "      <th>ДатаПлатежаПоДоговору</th>\n",
              "      <th>Сумма</th>\n",
              "      <th>Контрагент</th>\n",
              "      <th>Просрочка</th>\n",
              "      <th>ОКВЭД</th>\n",
              "      <th>ГруппаОКВЭД</th>\n",
              "      <th>ГодРегистрацииК/а</th>\n",
              "      <th>ГруппаКомпаний</th>\n",
              "    </tr>\n",
              "  </thead>\n",
              "  <tbody>\n",
              "    <tr>\n",
              "      <th>0</th>\n",
              "      <td>Документ расчетов с контрагентом МТ00-00000000...</td>\n",
              "      <td>2022-03-11</td>\n",
              "      <td>2022-03-31</td>\n",
              "      <td>5175.84</td>\n",
              "      <td>1</td>\n",
              "      <td>0</td>\n",
              "      <td>0</td>\n",
              "      <td>н/д</td>\n",
              "      <td>0</td>\n",
              "      <td>нет</td>\n",
              "    </tr>\n",
              "    <tr>\n",
              "      <th>1</th>\n",
              "      <td>Реализация (акт, накладная, УПД) МТ00-00000000...</td>\n",
              "      <td>2022-03-16</td>\n",
              "      <td>2022-03-31</td>\n",
              "      <td>17569.40</td>\n",
              "      <td>2</td>\n",
              "      <td>0</td>\n",
              "      <td>73.11</td>\n",
              "      <td>Реклама</td>\n",
              "      <td>2017</td>\n",
              "      <td>нет</td>\n",
              "    </tr>\n",
              "    <tr>\n",
              "      <th>2</th>\n",
              "      <td>Реализация (акт, накладная, УПД) МТ00-00000000...</td>\n",
              "      <td>2022-04-13</td>\n",
              "      <td>2022-04-30</td>\n",
              "      <td>62889.16</td>\n",
              "      <td>2</td>\n",
              "      <td>0</td>\n",
              "      <td>73.11</td>\n",
              "      <td>Реклама</td>\n",
              "      <td>2017</td>\n",
              "      <td>нет</td>\n",
              "    </tr>\n",
              "  </tbody>\n",
              "</table>\n",
              "</div>\n",
              "      <button class=\"colab-df-convert\" onclick=\"convertToInteractive('df-d3a5949d-7230-4933-ae4f-5c770cbdd895')\"\n",
              "              title=\"Convert this dataframe to an interactive table.\"\n",
              "              style=\"display:none;\">\n",
              "        \n",
              "  <svg xmlns=\"http://www.w3.org/2000/svg\" height=\"24px\"viewBox=\"0 0 24 24\"\n",
              "       width=\"24px\">\n",
              "    <path d=\"M0 0h24v24H0V0z\" fill=\"none\"/>\n",
              "    <path d=\"M18.56 5.44l.94 2.06.94-2.06 2.06-.94-2.06-.94-.94-2.06-.94 2.06-2.06.94zm-11 1L8.5 8.5l.94-2.06 2.06-.94-2.06-.94L8.5 2.5l-.94 2.06-2.06.94zm10 10l.94 2.06.94-2.06 2.06-.94-2.06-.94-.94-2.06-.94 2.06-2.06.94z\"/><path d=\"M17.41 7.96l-1.37-1.37c-.4-.4-.92-.59-1.43-.59-.52 0-1.04.2-1.43.59L10.3 9.45l-7.72 7.72c-.78.78-.78 2.05 0 2.83L4 21.41c.39.39.9.59 1.41.59.51 0 1.02-.2 1.41-.59l7.78-7.78 2.81-2.81c.8-.78.8-2.07 0-2.86zM5.41 20L4 18.59l7.72-7.72 1.47 1.35L5.41 20z\"/>\n",
              "  </svg>\n",
              "      </button>\n",
              "      \n",
              "  <style>\n",
              "    .colab-df-container {\n",
              "      display:flex;\n",
              "      flex-wrap:wrap;\n",
              "      gap: 12px;\n",
              "    }\n",
              "\n",
              "    .colab-df-convert {\n",
              "      background-color: #E8F0FE;\n",
              "      border: none;\n",
              "      border-radius: 50%;\n",
              "      cursor: pointer;\n",
              "      display: none;\n",
              "      fill: #1967D2;\n",
              "      height: 32px;\n",
              "      padding: 0 0 0 0;\n",
              "      width: 32px;\n",
              "    }\n",
              "\n",
              "    .colab-df-convert:hover {\n",
              "      background-color: #E2EBFA;\n",
              "      box-shadow: 0px 1px 2px rgba(60, 64, 67, 0.3), 0px 1px 3px 1px rgba(60, 64, 67, 0.15);\n",
              "      fill: #174EA6;\n",
              "    }\n",
              "\n",
              "    [theme=dark] .colab-df-convert {\n",
              "      background-color: #3B4455;\n",
              "      fill: #D2E3FC;\n",
              "    }\n",
              "\n",
              "    [theme=dark] .colab-df-convert:hover {\n",
              "      background-color: #434B5C;\n",
              "      box-shadow: 0px 1px 3px 1px rgba(0, 0, 0, 0.15);\n",
              "      filter: drop-shadow(0px 1px 2px rgba(0, 0, 0, 0.3));\n",
              "      fill: #FFFFFF;\n",
              "    }\n",
              "  </style>\n",
              "\n",
              "      <script>\n",
              "        const buttonEl =\n",
              "          document.querySelector('#df-d3a5949d-7230-4933-ae4f-5c770cbdd895 button.colab-df-convert');\n",
              "        buttonEl.style.display =\n",
              "          google.colab.kernel.accessAllowed ? 'block' : 'none';\n",
              "\n",
              "        async function convertToInteractive(key) {\n",
              "          const element = document.querySelector('#df-d3a5949d-7230-4933-ae4f-5c770cbdd895');\n",
              "          const dataTable =\n",
              "            await google.colab.kernel.invokeFunction('convertToInteractive',\n",
              "                                                     [key], {});\n",
              "          if (!dataTable) return;\n",
              "\n",
              "          const docLinkHtml = 'Like what you see? Visit the ' +\n",
              "            '<a target=\"_blank\" href=https://colab.research.google.com/notebooks/data_table.ipynb>data table notebook</a>'\n",
              "            + ' to learn more about interactive tables.';\n",
              "          element.innerHTML = '';\n",
              "          dataTable['output_type'] = 'display_data';\n",
              "          await google.colab.output.renderOutput(dataTable, element);\n",
              "          const docLink = document.createElement('div');\n",
              "          docLink.innerHTML = docLinkHtml;\n",
              "          element.appendChild(docLink);\n",
              "        }\n",
              "      </script>\n",
              "    </div>\n",
              "  </div>\n",
              "  "
            ]
          },
          "metadata": {},
          "execution_count": 6
        }
      ],
      "source": [
        "df_receivable.head(3)"
      ]
    },
    {
      "cell_type": "code",
      "execution_count": 7,
      "metadata": {
        "id": "YU3GdrP9v1Q9"
      },
      "outputs": [],
      "source": [
        "df_receivable['countlate']=df_receivable.Просрочка.eq(1).groupby(df_receivable.Контрагент).apply(\n",
        "    lambda x : x.cumsum().shift().fillna(0)).astype(int)"
      ]
    },
    {
      "cell_type": "code",
      "execution_count": 8,
      "metadata": {
        "colab": {
          "base_uri": "https://localhost:8080/",
          "height": 188
        },
        "id": "XwvpbHvuv1Q-",
        "outputId": "55194ba4-f733-43a8-ec81-40fc08369ebf"
      },
      "outputs": [
        {
          "output_type": "execute_result",
          "data": {
            "text/plain": [
              "                                      НомерДокумента ФактическаяДатаПлатежа  \\\n",
              "0  Документ расчетов с контрагентом МТ00-00000000...             2022-03-11   \n",
              "1  Реализация (акт, накладная, УПД) МТ00-00000000...             2022-03-16   \n",
              "2  Реализация (акт, накладная, УПД) МТ00-00000000...             2022-04-13   \n",
              "\n",
              "  ДатаПлатежаПоДоговору     Сумма  Контрагент  Просрочка  ОКВЭД ГруппаОКВЭД  \\\n",
              "0            2022-03-31   5175.84           1          0      0         н/д   \n",
              "1            2022-03-31  17569.40           2          0  73.11     Реклама   \n",
              "2            2022-04-30  62889.16           2          0  73.11     Реклама   \n",
              "\n",
              "   ГодРегистрацииК/а ГруппаКомпаний  countlate  \n",
              "0                  0            нет          0  \n",
              "1               2017            нет          0  \n",
              "2               2017            нет          0  "
            ],
            "text/html": [
              "\n",
              "  <div id=\"df-3b180a96-091c-4ff0-9bec-cea23eff11fb\">\n",
              "    <div class=\"colab-df-container\">\n",
              "      <div>\n",
              "<style scoped>\n",
              "    .dataframe tbody tr th:only-of-type {\n",
              "        vertical-align: middle;\n",
              "    }\n",
              "\n",
              "    .dataframe tbody tr th {\n",
              "        vertical-align: top;\n",
              "    }\n",
              "\n",
              "    .dataframe thead th {\n",
              "        text-align: right;\n",
              "    }\n",
              "</style>\n",
              "<table border=\"1\" class=\"dataframe\">\n",
              "  <thead>\n",
              "    <tr style=\"text-align: right;\">\n",
              "      <th></th>\n",
              "      <th>НомерДокумента</th>\n",
              "      <th>ФактическаяДатаПлатежа</th>\n",
              "      <th>ДатаПлатежаПоДоговору</th>\n",
              "      <th>Сумма</th>\n",
              "      <th>Контрагент</th>\n",
              "      <th>Просрочка</th>\n",
              "      <th>ОКВЭД</th>\n",
              "      <th>ГруппаОКВЭД</th>\n",
              "      <th>ГодРегистрацииК/а</th>\n",
              "      <th>ГруппаКомпаний</th>\n",
              "      <th>countlate</th>\n",
              "    </tr>\n",
              "  </thead>\n",
              "  <tbody>\n",
              "    <tr>\n",
              "      <th>0</th>\n",
              "      <td>Документ расчетов с контрагентом МТ00-00000000...</td>\n",
              "      <td>2022-03-11</td>\n",
              "      <td>2022-03-31</td>\n",
              "      <td>5175.84</td>\n",
              "      <td>1</td>\n",
              "      <td>0</td>\n",
              "      <td>0</td>\n",
              "      <td>н/д</td>\n",
              "      <td>0</td>\n",
              "      <td>нет</td>\n",
              "      <td>0</td>\n",
              "    </tr>\n",
              "    <tr>\n",
              "      <th>1</th>\n",
              "      <td>Реализация (акт, накладная, УПД) МТ00-00000000...</td>\n",
              "      <td>2022-03-16</td>\n",
              "      <td>2022-03-31</td>\n",
              "      <td>17569.40</td>\n",
              "      <td>2</td>\n",
              "      <td>0</td>\n",
              "      <td>73.11</td>\n",
              "      <td>Реклама</td>\n",
              "      <td>2017</td>\n",
              "      <td>нет</td>\n",
              "      <td>0</td>\n",
              "    </tr>\n",
              "    <tr>\n",
              "      <th>2</th>\n",
              "      <td>Реализация (акт, накладная, УПД) МТ00-00000000...</td>\n",
              "      <td>2022-04-13</td>\n",
              "      <td>2022-04-30</td>\n",
              "      <td>62889.16</td>\n",
              "      <td>2</td>\n",
              "      <td>0</td>\n",
              "      <td>73.11</td>\n",
              "      <td>Реклама</td>\n",
              "      <td>2017</td>\n",
              "      <td>нет</td>\n",
              "      <td>0</td>\n",
              "    </tr>\n",
              "  </tbody>\n",
              "</table>\n",
              "</div>\n",
              "      <button class=\"colab-df-convert\" onclick=\"convertToInteractive('df-3b180a96-091c-4ff0-9bec-cea23eff11fb')\"\n",
              "              title=\"Convert this dataframe to an interactive table.\"\n",
              "              style=\"display:none;\">\n",
              "        \n",
              "  <svg xmlns=\"http://www.w3.org/2000/svg\" height=\"24px\"viewBox=\"0 0 24 24\"\n",
              "       width=\"24px\">\n",
              "    <path d=\"M0 0h24v24H0V0z\" fill=\"none\"/>\n",
              "    <path d=\"M18.56 5.44l.94 2.06.94-2.06 2.06-.94-2.06-.94-.94-2.06-.94 2.06-2.06.94zm-11 1L8.5 8.5l.94-2.06 2.06-.94-2.06-.94L8.5 2.5l-.94 2.06-2.06.94zm10 10l.94 2.06.94-2.06 2.06-.94-2.06-.94-.94-2.06-.94 2.06-2.06.94z\"/><path d=\"M17.41 7.96l-1.37-1.37c-.4-.4-.92-.59-1.43-.59-.52 0-1.04.2-1.43.59L10.3 9.45l-7.72 7.72c-.78.78-.78 2.05 0 2.83L4 21.41c.39.39.9.59 1.41.59.51 0 1.02-.2 1.41-.59l7.78-7.78 2.81-2.81c.8-.78.8-2.07 0-2.86zM5.41 20L4 18.59l7.72-7.72 1.47 1.35L5.41 20z\"/>\n",
              "  </svg>\n",
              "      </button>\n",
              "      \n",
              "  <style>\n",
              "    .colab-df-container {\n",
              "      display:flex;\n",
              "      flex-wrap:wrap;\n",
              "      gap: 12px;\n",
              "    }\n",
              "\n",
              "    .colab-df-convert {\n",
              "      background-color: #E8F0FE;\n",
              "      border: none;\n",
              "      border-radius: 50%;\n",
              "      cursor: pointer;\n",
              "      display: none;\n",
              "      fill: #1967D2;\n",
              "      height: 32px;\n",
              "      padding: 0 0 0 0;\n",
              "      width: 32px;\n",
              "    }\n",
              "\n",
              "    .colab-df-convert:hover {\n",
              "      background-color: #E2EBFA;\n",
              "      box-shadow: 0px 1px 2px rgba(60, 64, 67, 0.3), 0px 1px 3px 1px rgba(60, 64, 67, 0.15);\n",
              "      fill: #174EA6;\n",
              "    }\n",
              "\n",
              "    [theme=dark] .colab-df-convert {\n",
              "      background-color: #3B4455;\n",
              "      fill: #D2E3FC;\n",
              "    }\n",
              "\n",
              "    [theme=dark] .colab-df-convert:hover {\n",
              "      background-color: #434B5C;\n",
              "      box-shadow: 0px 1px 3px 1px rgba(0, 0, 0, 0.15);\n",
              "      filter: drop-shadow(0px 1px 2px rgba(0, 0, 0, 0.3));\n",
              "      fill: #FFFFFF;\n",
              "    }\n",
              "  </style>\n",
              "\n",
              "      <script>\n",
              "        const buttonEl =\n",
              "          document.querySelector('#df-3b180a96-091c-4ff0-9bec-cea23eff11fb button.colab-df-convert');\n",
              "        buttonEl.style.display =\n",
              "          google.colab.kernel.accessAllowed ? 'block' : 'none';\n",
              "\n",
              "        async function convertToInteractive(key) {\n",
              "          const element = document.querySelector('#df-3b180a96-091c-4ff0-9bec-cea23eff11fb');\n",
              "          const dataTable =\n",
              "            await google.colab.kernel.invokeFunction('convertToInteractive',\n",
              "                                                     [key], {});\n",
              "          if (!dataTable) return;\n",
              "\n",
              "          const docLinkHtml = 'Like what you see? Visit the ' +\n",
              "            '<a target=\"_blank\" href=https://colab.research.google.com/notebooks/data_table.ipynb>data table notebook</a>'\n",
              "            + ' to learn more about interactive tables.';\n",
              "          element.innerHTML = '';\n",
              "          dataTable['output_type'] = 'display_data';\n",
              "          await google.colab.output.renderOutput(dataTable, element);\n",
              "          const docLink = document.createElement('div');\n",
              "          docLink.innerHTML = docLinkHtml;\n",
              "          element.appendChild(docLink);\n",
              "        }\n",
              "      </script>\n",
              "    </div>\n",
              "  </div>\n",
              "  "
            ]
          },
          "metadata": {},
          "execution_count": 8
        }
      ],
      "source": [
        "df_receivable.head(3)"
      ]
    },
    {
      "cell_type": "code",
      "execution_count": 9,
      "metadata": {
        "colab": {
          "base_uri": "https://localhost:8080/"
        },
        "id": "y4GV3K2_v1Q_",
        "outputId": "18d7ebad-13d1-4c8f-fe60-ceb47372e2c6"
      },
      "outputs": [
        {
          "output_type": "stream",
          "name": "stdout",
          "text": [
            "<class 'pandas.core.frame.DataFrame'>\n",
            "RangeIndex: 247 entries, 0 to 246\n",
            "Data columns (total 11 columns):\n",
            " #   Column                  Non-Null Count  Dtype         \n",
            "---  ------                  --------------  -----         \n",
            " 0   НомерДокумента          247 non-null    object        \n",
            " 1   ФактическаяДатаПлатежа  247 non-null    datetime64[ns]\n",
            " 2   ДатаПлатежаПоДоговору   247 non-null    datetime64[ns]\n",
            " 3   Сумма                   247 non-null    float64       \n",
            " 4   Контрагент              247 non-null    int64         \n",
            " 5   Просрочка               247 non-null    int64         \n",
            " 6   ОКВЭД                   247 non-null    object        \n",
            " 7   ГруппаОКВЭД             247 non-null    object        \n",
            " 8   ГодРегистрацииК/а       247 non-null    int64         \n",
            " 9   ГруппаКомпаний          247 non-null    object        \n",
            " 10  countlate               247 non-null    int64         \n",
            "dtypes: datetime64[ns](2), float64(1), int64(4), object(4)\n",
            "memory usage: 21.4+ KB\n"
          ]
        }
      ],
      "source": [
        "df_receivable.info()"
      ]
    },
    {
      "cell_type": "code",
      "execution_count": 10,
      "metadata": {
        "colab": {
          "base_uri": "https://localhost:8080/",
          "height": 301
        },
        "id": "YsW_wojKv1RB",
        "outputId": "dfdb4b8c-8a6e-4f8e-9b3f-df1c289a5343"
      },
      "outputs": [
        {
          "output_type": "execute_result",
          "data": {
            "text/plain": [
              "              Сумма  Контрагент   Просрочка  ГодРегистрацииК/а   countlate\n",
              "count  2.470000e+02  247.000000  247.000000         247.000000  247.000000\n",
              "mean   1.143095e+06   22.623482    0.607287        1976.692308    3.170040\n",
              "std    4.306918e+06   13.883368    0.489345         254.204359    4.281202\n",
              "min    3.000000e-02    1.000000    0.000000           0.000000    0.000000\n",
              "25%    1.334091e+04   10.500000    0.000000        2004.000000    0.000000\n",
              "50%    6.877584e+04   21.000000    1.000000        2007.000000    1.000000\n",
              "75%    3.480000e+05   30.000000    1.000000        2015.000000    4.000000\n",
              "max    3.038019e+07   57.000000    1.000000        2021.000000   18.000000"
            ],
            "text/html": [
              "\n",
              "  <div id=\"df-c5201e55-2267-4f87-8e4e-5b8420a4085f\">\n",
              "    <div class=\"colab-df-container\">\n",
              "      <div>\n",
              "<style scoped>\n",
              "    .dataframe tbody tr th:only-of-type {\n",
              "        vertical-align: middle;\n",
              "    }\n",
              "\n",
              "    .dataframe tbody tr th {\n",
              "        vertical-align: top;\n",
              "    }\n",
              "\n",
              "    .dataframe thead th {\n",
              "        text-align: right;\n",
              "    }\n",
              "</style>\n",
              "<table border=\"1\" class=\"dataframe\">\n",
              "  <thead>\n",
              "    <tr style=\"text-align: right;\">\n",
              "      <th></th>\n",
              "      <th>Сумма</th>\n",
              "      <th>Контрагент</th>\n",
              "      <th>Просрочка</th>\n",
              "      <th>ГодРегистрацииК/а</th>\n",
              "      <th>countlate</th>\n",
              "    </tr>\n",
              "  </thead>\n",
              "  <tbody>\n",
              "    <tr>\n",
              "      <th>count</th>\n",
              "      <td>2.470000e+02</td>\n",
              "      <td>247.000000</td>\n",
              "      <td>247.000000</td>\n",
              "      <td>247.000000</td>\n",
              "      <td>247.000000</td>\n",
              "    </tr>\n",
              "    <tr>\n",
              "      <th>mean</th>\n",
              "      <td>1.143095e+06</td>\n",
              "      <td>22.623482</td>\n",
              "      <td>0.607287</td>\n",
              "      <td>1976.692308</td>\n",
              "      <td>3.170040</td>\n",
              "    </tr>\n",
              "    <tr>\n",
              "      <th>std</th>\n",
              "      <td>4.306918e+06</td>\n",
              "      <td>13.883368</td>\n",
              "      <td>0.489345</td>\n",
              "      <td>254.204359</td>\n",
              "      <td>4.281202</td>\n",
              "    </tr>\n",
              "    <tr>\n",
              "      <th>min</th>\n",
              "      <td>3.000000e-02</td>\n",
              "      <td>1.000000</td>\n",
              "      <td>0.000000</td>\n",
              "      <td>0.000000</td>\n",
              "      <td>0.000000</td>\n",
              "    </tr>\n",
              "    <tr>\n",
              "      <th>25%</th>\n",
              "      <td>1.334091e+04</td>\n",
              "      <td>10.500000</td>\n",
              "      <td>0.000000</td>\n",
              "      <td>2004.000000</td>\n",
              "      <td>0.000000</td>\n",
              "    </tr>\n",
              "    <tr>\n",
              "      <th>50%</th>\n",
              "      <td>6.877584e+04</td>\n",
              "      <td>21.000000</td>\n",
              "      <td>1.000000</td>\n",
              "      <td>2007.000000</td>\n",
              "      <td>1.000000</td>\n",
              "    </tr>\n",
              "    <tr>\n",
              "      <th>75%</th>\n",
              "      <td>3.480000e+05</td>\n",
              "      <td>30.000000</td>\n",
              "      <td>1.000000</td>\n",
              "      <td>2015.000000</td>\n",
              "      <td>4.000000</td>\n",
              "    </tr>\n",
              "    <tr>\n",
              "      <th>max</th>\n",
              "      <td>3.038019e+07</td>\n",
              "      <td>57.000000</td>\n",
              "      <td>1.000000</td>\n",
              "      <td>2021.000000</td>\n",
              "      <td>18.000000</td>\n",
              "    </tr>\n",
              "  </tbody>\n",
              "</table>\n",
              "</div>\n",
              "      <button class=\"colab-df-convert\" onclick=\"convertToInteractive('df-c5201e55-2267-4f87-8e4e-5b8420a4085f')\"\n",
              "              title=\"Convert this dataframe to an interactive table.\"\n",
              "              style=\"display:none;\">\n",
              "        \n",
              "  <svg xmlns=\"http://www.w3.org/2000/svg\" height=\"24px\"viewBox=\"0 0 24 24\"\n",
              "       width=\"24px\">\n",
              "    <path d=\"M0 0h24v24H0V0z\" fill=\"none\"/>\n",
              "    <path d=\"M18.56 5.44l.94 2.06.94-2.06 2.06-.94-2.06-.94-.94-2.06-.94 2.06-2.06.94zm-11 1L8.5 8.5l.94-2.06 2.06-.94-2.06-.94L8.5 2.5l-.94 2.06-2.06.94zm10 10l.94 2.06.94-2.06 2.06-.94-2.06-.94-.94-2.06-.94 2.06-2.06.94z\"/><path d=\"M17.41 7.96l-1.37-1.37c-.4-.4-.92-.59-1.43-.59-.52 0-1.04.2-1.43.59L10.3 9.45l-7.72 7.72c-.78.78-.78 2.05 0 2.83L4 21.41c.39.39.9.59 1.41.59.51 0 1.02-.2 1.41-.59l7.78-7.78 2.81-2.81c.8-.78.8-2.07 0-2.86zM5.41 20L4 18.59l7.72-7.72 1.47 1.35L5.41 20z\"/>\n",
              "  </svg>\n",
              "      </button>\n",
              "      \n",
              "  <style>\n",
              "    .colab-df-container {\n",
              "      display:flex;\n",
              "      flex-wrap:wrap;\n",
              "      gap: 12px;\n",
              "    }\n",
              "\n",
              "    .colab-df-convert {\n",
              "      background-color: #E8F0FE;\n",
              "      border: none;\n",
              "      border-radius: 50%;\n",
              "      cursor: pointer;\n",
              "      display: none;\n",
              "      fill: #1967D2;\n",
              "      height: 32px;\n",
              "      padding: 0 0 0 0;\n",
              "      width: 32px;\n",
              "    }\n",
              "\n",
              "    .colab-df-convert:hover {\n",
              "      background-color: #E2EBFA;\n",
              "      box-shadow: 0px 1px 2px rgba(60, 64, 67, 0.3), 0px 1px 3px 1px rgba(60, 64, 67, 0.15);\n",
              "      fill: #174EA6;\n",
              "    }\n",
              "\n",
              "    [theme=dark] .colab-df-convert {\n",
              "      background-color: #3B4455;\n",
              "      fill: #D2E3FC;\n",
              "    }\n",
              "\n",
              "    [theme=dark] .colab-df-convert:hover {\n",
              "      background-color: #434B5C;\n",
              "      box-shadow: 0px 1px 3px 1px rgba(0, 0, 0, 0.15);\n",
              "      filter: drop-shadow(0px 1px 2px rgba(0, 0, 0, 0.3));\n",
              "      fill: #FFFFFF;\n",
              "    }\n",
              "  </style>\n",
              "\n",
              "      <script>\n",
              "        const buttonEl =\n",
              "          document.querySelector('#df-c5201e55-2267-4f87-8e4e-5b8420a4085f button.colab-df-convert');\n",
              "        buttonEl.style.display =\n",
              "          google.colab.kernel.accessAllowed ? 'block' : 'none';\n",
              "\n",
              "        async function convertToInteractive(key) {\n",
              "          const element = document.querySelector('#df-c5201e55-2267-4f87-8e4e-5b8420a4085f');\n",
              "          const dataTable =\n",
              "            await google.colab.kernel.invokeFunction('convertToInteractive',\n",
              "                                                     [key], {});\n",
              "          if (!dataTable) return;\n",
              "\n",
              "          const docLinkHtml = 'Like what you see? Visit the ' +\n",
              "            '<a target=\"_blank\" href=https://colab.research.google.com/notebooks/data_table.ipynb>data table notebook</a>'\n",
              "            + ' to learn more about interactive tables.';\n",
              "          element.innerHTML = '';\n",
              "          dataTable['output_type'] = 'display_data';\n",
              "          await google.colab.output.renderOutput(dataTable, element);\n",
              "          const docLink = document.createElement('div');\n",
              "          docLink.innerHTML = docLinkHtml;\n",
              "          element.appendChild(docLink);\n",
              "        }\n",
              "      </script>\n",
              "    </div>\n",
              "  </div>\n",
              "  "
            ]
          },
          "metadata": {},
          "execution_count": 10
        }
      ],
      "source": [
        "df_receivable.describe()"
      ]
    },
    {
      "cell_type": "code",
      "execution_count": 11,
      "metadata": {
        "colab": {
          "base_uri": "https://localhost:8080/",
          "height": 413
        },
        "id": "UE1LoJs6v1RC",
        "outputId": "4180d461-98be-475d-b0ff-8ec47e7a0ba1"
      },
      "outputs": [
        {
          "output_type": "execute_result",
          "data": {
            "text/plain": [
              "<matplotlib.axes._subplots.AxesSubplot at 0x7fd430521610>"
            ]
          },
          "metadata": {},
          "execution_count": 11
        },
        {
          "output_type": "display_data",
          "data": {
            "text/plain": [
              "<Figure size 720x432 with 1 Axes>"
            ],
            "image/png": "[encoded data removed]"
          },
          "metadata": {}
        }
      ],
      "source": [
        "temp = pd.DataFrame(df_receivable.groupby(['ГруппаОКВЭД'], axis=0, as_index=False)['Сумма'].mean())\n",
        "plt.figure(figsize=(10,6))\n",
        "sns.barplot(x=\"ГруппаОКВЭД\", y=\"Сумма\",data=temp,linewidth=2.5, facecolor=(1, 1, 1, 0),\n",
        "                 errcolor=\".4\", edgecolor=\"red\")"
      ]
    },
    {
      "cell_type": "code",
      "execution_count": 12,
      "metadata": {
        "colab": {
          "base_uri": "https://localhost:8080/",
          "height": 247
        },
        "id": "GpQAznAjv1RE",
        "outputId": "3772fb98-459a-4510-8cdc-e0092436af6a"
      },
      "outputs": [
        {
          "output_type": "stream",
          "name": "stderr",
          "text": [
            "<ipython-input-12-ec5b9d9922b9>:1: DeprecationWarning: `np.object` is a deprecated alias for the builtin `object`. To silence this warning, use `object` by itself. Doing this will not modify any behavior and is safe. \n",
            "Deprecated in NumPy 1.20; for more details and guidance: https://numpy.org/devdocs/release/1.20.0-notes.html#deprecations\n",
            "  df_receivable.describe(include=np.object)\n"
          ]
        },
        {
          "output_type": "execute_result",
          "data": {
            "text/plain": [
              "                                           НомерДокумента  ОКВЭД ГруппаОКВЭД  \\\n",
              "count                                                 247    247         247   \n",
              "unique                                                242     23           5   \n",
              "top     Документ расчетов с контрагентом МТ00-00000000...  73.11     Реклама   \n",
              "freq                                                    2     91         105   \n",
              "\n",
              "       ГруппаКомпаний  \n",
              "count             247  \n",
              "unique              2  \n",
              "top               нет  \n",
              "freq              161  "
            ],
            "text/html": [
              "\n",
              "  <div id=\"df-26503ba2-744c-4309-b99b-d93e96c1fc52\">\n",
              "    <div class=\"colab-df-container\">\n",
              "      <div>\n",
              "<style scoped>\n",
              "    .dataframe tbody tr th:only-of-type {\n",
              "        vertical-align: middle;\n",
              "    }\n",
              "\n",
              "    .dataframe tbody tr th {\n",
              "        vertical-align: top;\n",
              "    }\n",
              "\n",
              "    .dataframe thead th {\n",
              "        text-align: right;\n",
              "    }\n",
              "</style>\n",
              "<table border=\"1\" class=\"dataframe\">\n",
              "  <thead>\n",
              "    <tr style=\"text-align: right;\">\n",
              "      <th></th>\n",
              "      <th>НомерДокумента</th>\n",
              "      <th>ОКВЭД</th>\n",
              "      <th>ГруппаОКВЭД</th>\n",
              "      <th>ГруппаКомпаний</th>\n",
              "    </tr>\n",
              "  </thead>\n",
              "  <tbody>\n",
              "    <tr>\n",
              "      <th>count</th>\n",
              "      <td>247</td>\n",
              "      <td>247</td>\n",
              "      <td>247</td>\n",
              "      <td>247</td>\n",
              "    </tr>\n",
              "    <tr>\n",
              "      <th>unique</th>\n",
              "      <td>242</td>\n",
              "      <td>23</td>\n",
              "      <td>5</td>\n",
              "      <td>2</td>\n",
              "    </tr>\n",
              "    <tr>\n",
              "      <th>top</th>\n",
              "      <td>Документ расчетов с контрагентом МТ00-00000000...</td>\n",
              "      <td>73.11</td>\n",
              "      <td>Реклама</td>\n",
              "      <td>нет</td>\n",
              "    </tr>\n",
              "    <tr>\n",
              "      <th>freq</th>\n",
              "      <td>2</td>\n",
              "      <td>91</td>\n",
              "      <td>105</td>\n",
              "      <td>161</td>\n",
              "    </tr>\n",
              "  </tbody>\n",
              "</table>\n",
              "</div>\n",
              "      <button class=\"colab-df-convert\" onclick=\"convertToInteractive('df-26503ba2-744c-4309-b99b-d93e96c1fc52')\"\n",
              "              title=\"Convert this dataframe to an interactive table.\"\n",
              "              style=\"display:none;\">\n",
              "        \n",
              "  <svg xmlns=\"http://www.w3.org/2000/svg\" height=\"24px\"viewBox=\"0 0 24 24\"\n",
              "       width=\"24px\">\n",
              "    <path d=\"M0 0h24v24H0V0z\" fill=\"none\"/>\n",
              "    <path d=\"M18.56 5.44l.94 2.06.94-2.06 2.06-.94-2.06-.94-.94-2.06-.94 2.06-2.06.94zm-11 1L8.5 8.5l.94-2.06 2.06-.94-2.06-.94L8.5 2.5l-.94 2.06-2.06.94zm10 10l.94 2.06.94-2.06 2.06-.94-2.06-.94-.94-2.06-.94 2.06-2.06.94z\"/><path d=\"M17.41 7.96l-1.37-1.37c-.4-.4-.92-.59-1.43-.59-.52 0-1.04.2-1.43.59L10.3 9.45l-7.72 7.72c-.78.78-.78 2.05 0 2.83L4 21.41c.39.39.9.59 1.41.59.51 0 1.02-.2 1.41-.59l7.78-7.78 2.81-2.81c.8-.78.8-2.07 0-2.86zM5.41 20L4 18.59l7.72-7.72 1.47 1.35L5.41 20z\"/>\n",
              "  </svg>\n",
              "      </button>\n",
              "      \n",
              "  <style>\n",
              "    .colab-df-container {\n",
              "      display:flex;\n",
              "      flex-wrap:wrap;\n",
              "      gap: 12px;\n",
              "    }\n",
              "\n",
              "    .colab-df-convert {\n",
              "      background-color: #E8F0FE;\n",
              "      border: none;\n",
              "      border-radius: 50%;\n",
              "      cursor: pointer;\n",
              "      display: none;\n",
              "      fill: #1967D2;\n",
              "      height: 32px;\n",
              "      padding: 0 0 0 0;\n",
              "      width: 32px;\n",
              "    }\n",
              "\n",
              "    .colab-df-convert:hover {\n",
              "      background-color: #E2EBFA;\n",
              "      box-shadow: 0px 1px 2px rgba(60, 64, 67, 0.3), 0px 1px 3px 1px rgba(60, 64, 67, 0.15);\n",
              "      fill: #174EA6;\n",
              "    }\n",
              "\n",
              "    [theme=dark] .colab-df-convert {\n",
              "      background-color: #3B4455;\n",
              "      fill: #D2E3FC;\n",
              "    }\n",
              "\n",
              "    [theme=dark] .colab-df-convert:hover {\n",
              "      background-color: #434B5C;\n",
              "      box-shadow: 0px 1px 3px 1px rgba(0, 0, 0, 0.15);\n",
              "      filter: drop-shadow(0px 1px 2px rgba(0, 0, 0, 0.3));\n",
              "      fill: #FFFFFF;\n",
              "    }\n",
              "  </style>\n",
              "\n",
              "      <script>\n",
              "        const buttonEl =\n",
              "          document.querySelector('#df-26503ba2-744c-4309-b99b-d93e96c1fc52 button.colab-df-convert');\n",
              "        buttonEl.style.display =\n",
              "          google.colab.kernel.accessAllowed ? 'block' : 'none';\n",
              "\n",
              "        async function convertToInteractive(key) {\n",
              "          const element = document.querySelector('#df-26503ba2-744c-4309-b99b-d93e96c1fc52');\n",
              "          const dataTable =\n",
              "            await google.colab.kernel.invokeFunction('convertToInteractive',\n",
              "                                                     [key], {});\n",
              "          if (!dataTable) return;\n",
              "\n",
              "          const docLinkHtml = 'Like what you see? Visit the ' +\n",
              "            '<a target=\"_blank\" href=https://colab.research.google.com/notebooks/data_table.ipynb>data table notebook</a>'\n",
              "            + ' to learn more about interactive tables.';\n",
              "          element.innerHTML = '';\n",
              "          dataTable['output_type'] = 'display_data';\n",
              "          await google.colab.output.renderOutput(dataTable, element);\n",
              "          const docLink = document.createElement('div');\n",
              "          docLink.innerHTML = docLinkHtml;\n",
              "          element.appendChild(docLink);\n",
              "        }\n",
              "      </script>\n",
              "    </div>\n",
              "  </div>\n",
              "  "
            ]
          },
          "metadata": {},
          "execution_count": 12
        }
      ],
      "source": [
        "df_receivable.describe(include=np.object)"
      ]
    },
    {
      "cell_type": "code",
      "execution_count": 13,
      "metadata": {
        "colab": {
          "base_uri": "https://localhost:8080/"
        },
        "id": "l2GhTebxv1RE",
        "outputId": "be0e862e-02f9-4987-89a4-3ac3bdac2ada"
      },
      "outputs": [
        {
          "output_type": "stream",
          "name": "stdout",
          "text": [
            "col_0    count\n",
            "ОКВЭД         \n",
            "0            7\n",
            "45.20.1      1\n",
            "47.19       19\n",
            "47.52        1\n",
            "47.91.2      2\n",
            "53.20.3      1\n",
            "59.20.1      1\n",
            "60.20       23\n",
            "62.01       16\n",
            "62.02        6\n",
            "62.09        2\n",
            "63.11       32\n",
            "63.11.1     10\n",
            "63.99.1      3\n",
            "68.20.2      4\n",
            "68.31        5\n",
            "70.21        3\n",
            "72.19        3\n",
            "73.1        14\n",
            "73.11       91\n",
            "82.30        1\n",
            "82.99        1\n",
            "93.19        1\n",
            "col_0           count\n",
            "ГруппаКомпаний       \n",
            "да                 86\n",
            "нет               161\n",
            "col_0      count\n",
            "Просрочка       \n",
            "0             97\n",
            "1            150\n"
          ]
        }
      ],
      "source": [
        "print(pd.crosstab(index=df_receivable[\"ОКВЭД\"], columns=\"count\"))\n",
        "print(pd.crosstab(index=df_receivable[\"ГруппаКомпаний\"], columns=\"count\"))\n",
        "print(pd.crosstab(index=df_receivable[\"Просрочка\"], columns=\"count\"))"
      ]
    },
    {
      "cell_type": "code",
      "execution_count": 14,
      "metadata": {
        "colab": {
          "base_uri": "https://localhost:8080/",
          "height": 188
        },
        "id": "gki5W27Zv1RF",
        "outputId": "df3fb747-9272-4157-bd7d-cd994b7f1878"
      },
      "outputs": [
        {
          "output_type": "execute_result",
          "data": {
            "text/plain": [
              "                                      НомерДокумента ФактическаяДатаПлатежа  \\\n",
              "0  Документ расчетов с контрагентом МТ00-00000000...             2022-03-11   \n",
              "1  Реализация (акт, накладная, УПД) МТ00-00000000...             2022-03-16   \n",
              "2  Реализация (акт, накладная, УПД) МТ00-00000000...             2022-04-13   \n",
              "\n",
              "  ДатаПлатежаПоДоговору     Сумма  Контрагент  Просрочка  ОКВЭД ГруппаОКВЭД  \\\n",
              "0            2022-03-31   5175.84           1          0      0         н/д   \n",
              "1            2022-03-31  17569.40           2          0  73.11     Реклама   \n",
              "2            2022-04-30  62889.16           2          0  73.11     Реклама   \n",
              "\n",
              "   ГодРегистрацииК/а ГруппаКомпаний  countlate  \n",
              "0                  0            нет          0  \n",
              "1               2017            нет          0  \n",
              "2               2017            нет          0  "
            ],
            "text/html": [
              "\n",
              "  <div id=\"df-1e6bc292-e6cd-4d04-b970-bbb30811a45b\">\n",
              "    <div class=\"colab-df-container\">\n",
              "      <div>\n",
              "<style scoped>\n",
              "    .dataframe tbody tr th:only-of-type {\n",
              "        vertical-align: middle;\n",
              "    }\n",
              "\n",
              "    .dataframe tbody tr th {\n",
              "        vertical-align: top;\n",
              "    }\n",
              "\n",
              "    .dataframe thead th {\n",
              "        text-align: right;\n",
              "    }\n",
              "</style>\n",
              "<table border=\"1\" class=\"dataframe\">\n",
              "  <thead>\n",
              "    <tr style=\"text-align: right;\">\n",
              "      <th></th>\n",
              "      <th>НомерДокумента</th>\n",
              "      <th>ФактическаяДатаПлатежа</th>\n",
              "      <th>ДатаПлатежаПоДоговору</th>\n",
              "      <th>Сумма</th>\n",
              "      <th>Контрагент</th>\n",
              "      <th>Просрочка</th>\n",
              "      <th>ОКВЭД</th>\n",
              "      <th>ГруппаОКВЭД</th>\n",
              "      <th>ГодРегистрацииК/а</th>\n",
              "      <th>ГруппаКомпаний</th>\n",
              "      <th>countlate</th>\n",
              "    </tr>\n",
              "  </thead>\n",
              "  <tbody>\n",
              "    <tr>\n",
              "      <th>0</th>\n",
              "      <td>Документ расчетов с контрагентом МТ00-00000000...</td>\n",
              "      <td>2022-03-11</td>\n",
              "      <td>2022-03-31</td>\n",
              "      <td>5175.84</td>\n",
              "      <td>1</td>\n",
              "      <td>0</td>\n",
              "      <td>0</td>\n",
              "      <td>н/д</td>\n",
              "      <td>0</td>\n",
              "      <td>нет</td>\n",
              "      <td>0</td>\n",
              "    </tr>\n",
              "    <tr>\n",
              "      <th>1</th>\n",
              "      <td>Реализация (акт, накладная, УПД) МТ00-00000000...</td>\n",
              "      <td>2022-03-16</td>\n",
              "      <td>2022-03-31</td>\n",
              "      <td>17569.40</td>\n",
              "      <td>2</td>\n",
              "      <td>0</td>\n",
              "      <td>73.11</td>\n",
              "      <td>Реклама</td>\n",
              "      <td>2017</td>\n",
              "      <td>нет</td>\n",
              "      <td>0</td>\n",
              "    </tr>\n",
              "    <tr>\n",
              "      <th>2</th>\n",
              "      <td>Реализация (акт, накладная, УПД) МТ00-00000000...</td>\n",
              "      <td>2022-04-13</td>\n",
              "      <td>2022-04-30</td>\n",
              "      <td>62889.16</td>\n",
              "      <td>2</td>\n",
              "      <td>0</td>\n",
              "      <td>73.11</td>\n",
              "      <td>Реклама</td>\n",
              "      <td>2017</td>\n",
              "      <td>нет</td>\n",
              "      <td>0</td>\n",
              "    </tr>\n",
              "  </tbody>\n",
              "</table>\n",
              "</div>\n",
              "      <button class=\"colab-df-convert\" onclick=\"convertToInteractive('df-1e6bc292-e6cd-4d04-b970-bbb30811a45b')\"\n",
              "              title=\"Convert this dataframe to an interactive table.\"\n",
              "              style=\"display:none;\">\n",
              "        \n",
              "  <svg xmlns=\"http://www.w3.org/2000/svg\" height=\"24px\"viewBox=\"0 0 24 24\"\n",
              "       width=\"24px\">\n",
              "    <path d=\"M0 0h24v24H0V0z\" fill=\"none\"/>\n",
              "    <path d=\"M18.56 5.44l.94 2.06.94-2.06 2.06-.94-2.06-.94-.94-2.06-.94 2.06-2.06.94zm-11 1L8.5 8.5l.94-2.06 2.06-.94-2.06-.94L8.5 2.5l-.94 2.06-2.06.94zm10 10l.94 2.06.94-2.06 2.06-.94-2.06-.94-.94-2.06-.94 2.06-2.06.94z\"/><path d=\"M17.41 7.96l-1.37-1.37c-.4-.4-.92-.59-1.43-.59-.52 0-1.04.2-1.43.59L10.3 9.45l-7.72 7.72c-.78.78-.78 2.05 0 2.83L4 21.41c.39.39.9.59 1.41.59.51 0 1.02-.2 1.41-.59l7.78-7.78 2.81-2.81c.8-.78.8-2.07 0-2.86zM5.41 20L4 18.59l7.72-7.72 1.47 1.35L5.41 20z\"/>\n",
              "  </svg>\n",
              "      </button>\n",
              "      \n",
              "  <style>\n",
              "    .colab-df-container {\n",
              "      display:flex;\n",
              "      flex-wrap:wrap;\n",
              "      gap: 12px;\n",
              "    }\n",
              "\n",
              "    .colab-df-convert {\n",
              "      background-color: #E8F0FE;\n",
              "      border: none;\n",
              "      border-radius: 50%;\n",
              "      cursor: pointer;\n",
              "      display: none;\n",
              "      fill: #1967D2;\n",
              "      height: 32px;\n",
              "      padding: 0 0 0 0;\n",
              "      width: 32px;\n",
              "    }\n",
              "\n",
              "    .colab-df-convert:hover {\n",
              "      background-color: #E2EBFA;\n",
              "      box-shadow: 0px 1px 2px rgba(60, 64, 67, 0.3), 0px 1px 3px 1px rgba(60, 64, 67, 0.15);\n",
              "      fill: #174EA6;\n",
              "    }\n",
              "\n",
              "    [theme=dark] .colab-df-convert {\n",
              "      background-color: #3B4455;\n",
              "      fill: #D2E3FC;\n",
              "    }\n",
              "\n",
              "    [theme=dark] .colab-df-convert:hover {\n",
              "      background-color: #434B5C;\n",
              "      box-shadow: 0px 1px 3px 1px rgba(0, 0, 0, 0.15);\n",
              "      filter: drop-shadow(0px 1px 2px rgba(0, 0, 0, 0.3));\n",
              "      fill: #FFFFFF;\n",
              "    }\n",
              "  </style>\n",
              "\n",
              "      <script>\n",
              "        const buttonEl =\n",
              "          document.querySelector('#df-1e6bc292-e6cd-4d04-b970-bbb30811a45b button.colab-df-convert');\n",
              "        buttonEl.style.display =\n",
              "          google.colab.kernel.accessAllowed ? 'block' : 'none';\n",
              "\n",
              "        async function convertToInteractive(key) {\n",
              "          const element = document.querySelector('#df-1e6bc292-e6cd-4d04-b970-bbb30811a45b');\n",
              "          const dataTable =\n",
              "            await google.colab.kernel.invokeFunction('convertToInteractive',\n",
              "                                                     [key], {});\n",
              "          if (!dataTable) return;\n",
              "\n",
              "          const docLinkHtml = 'Like what you see? Visit the ' +\n",
              "            '<a target=\"_blank\" href=https://colab.research.google.com/notebooks/data_table.ipynb>data table notebook</a>'\n",
              "            + ' to learn more about interactive tables.';\n",
              "          element.innerHTML = '';\n",
              "          dataTable['output_type'] = 'display_data';\n",
              "          await google.colab.output.renderOutput(dataTable, element);\n",
              "          const docLink = document.createElement('div');\n",
              "          docLink.innerHTML = docLinkHtml;\n",
              "          element.appendChild(docLink);\n",
              "        }\n",
              "      </script>\n",
              "    </div>\n",
              "  </div>\n",
              "  "
            ]
          },
          "metadata": {},
          "execution_count": 14
        }
      ],
      "source": [
        "df_receivable.head(3)"
      ]
    },
    {
      "cell_type": "code",
      "execution_count": null,
      "metadata": {
        "colab": {
          "background_save": true
        },
        "id": "AgzRerX7v1RG"
      },
      "outputs": [],
      "source": []
    },
    {
      "cell_type": "code",
      "execution_count": null,
      "metadata": {
        "colab": {
          "background_save": true
        },
        "id": "LCF8HbV2v1RH"
      },
      "outputs": [],
      "source": []
    },
    {
      "cell_type": "code",
      "execution_count": 15,
      "metadata": {
        "colab": {
          "base_uri": "https://localhost:8080/",
          "height": 1000
        },
        "id": "J9M339oev1RH",
        "outputId": "71f62acc-7836-40d8-ca9f-33a8cc5258d9"
      },
      "outputs": [
        {
          "output_type": "execute_result",
          "data": {
            "text/plain": [
              "Просрочка    0   1\n",
              "Контрагент        \n",
              "5            4  19\n",
              "21          13  18\n",
              "27           6  13\n",
              "30           1  11\n",
              "10           7   9\n",
              "23           0   8\n",
              "53           0   5\n",
              "18           0   4\n",
              "14           0   4\n",
              "26           0   3\n",
              "24           6   3\n",
              "15           0   3\n",
              "22           0   3\n",
              "11           6   3\n",
              "52           0   3\n",
              "43           7   3\n",
              "3            1   3\n",
              "35           2   2\n",
              "19           2   2\n",
              "37           0   2\n",
              "17           0   2\n",
              "16           2   2\n",
              "13           0   2\n",
              "38           2   2\n",
              "54           0   2\n",
              "50           0   1\n",
              "45           0   1\n",
              "41           0   1\n",
              "56           0   1\n",
              "55           0   1\n",
              "44           1   1\n",
              "47           0   1\n",
              "46           0   1\n",
              "48           0   1\n",
              "51           0   1\n",
              "49           0   1\n",
              "1            1   1\n",
              "29           3   1\n",
              "57           0   1\n",
              "20           2   1\n",
              "36           0   1\n",
              "34           0   1\n",
              "31           0   1\n",
              "12           2   1\n",
              "4            1   0\n",
              "6            2   0\n",
              "7            2   0\n",
              "8            4   0\n",
              "9            3   0\n",
              "39           2   0\n",
              "25           3   0\n",
              "40           1   0\n",
              "2            5   0\n",
              "32           1   0\n",
              "33           2   0\n",
              "42           1   0\n",
              "28           2   0"
            ],
            "text/html": [
              "\n",
              "  <div id=\"df-7240f224-8d46-4759-a009-1573edb548c0\">\n",
              "    <div class=\"colab-df-container\">\n",
              "      <div>\n",
              "<style scoped>\n",
              "    .dataframe tbody tr th:only-of-type {\n",
              "        vertical-align: middle;\n",
              "    }\n",
              "\n",
              "    .dataframe tbody tr th {\n",
              "        vertical-align: top;\n",
              "    }\n",
              "\n",
              "    .dataframe thead th {\n",
              "        text-align: right;\n",
              "    }\n",
              "</style>\n",
              "<table border=\"1\" class=\"dataframe\">\n",
              "  <thead>\n",
              "    <tr style=\"text-align: right;\">\n",
              "      <th>Просрочка</th>\n",
              "      <th>0</th>\n",
              "      <th>1</th>\n",
              "    </tr>\n",
              "    <tr>\n",
              "      <th>Контрагент</th>\n",
              "      <th></th>\n",
              "      <th></th>\n",
              "    </tr>\n",
              "  </thead>\n",
              "  <tbody>\n",
              "    <tr>\n",
              "      <th>5</th>\n",
              "      <td>4</td>\n",
              "      <td>19</td>\n",
              "    </tr>\n",
              "    <tr>\n",
              "      <th>21</th>\n",
              "      <td>13</td>\n",
              "      <td>18</td>\n",
              "    </tr>\n",
              "    <tr>\n",
              "      <th>27</th>\n",
              "      <td>6</td>\n",
              "      <td>13</td>\n",
              "    </tr>\n",
              "    <tr>\n",
              "      <th>30</th>\n",
              "      <td>1</td>\n",
              "      <td>11</td>\n",
              "    </tr>\n",
              "    <tr>\n",
              "      <th>10</th>\n",
              "      <td>7</td>\n",
              "      <td>9</td>\n",
              "    </tr>\n",
              "    <tr>\n",
              "      <th>23</th>\n",
              "      <td>0</td>\n",
              "      <td>8</td>\n",
              "    </tr>\n",
              "    <tr>\n",
              "      <th>53</th>\n",
              "      <td>0</td>\n",
              "      <td>5</td>\n",
              "    </tr>\n",
              "    <tr>\n",
              "      <th>18</th>\n",
              "      <td>0</td>\n",
              "      <td>4</td>\n",
              "    </tr>\n",
              "    <tr>\n",
              "      <th>14</th>\n",
              "      <td>0</td>\n",
              "      <td>4</td>\n",
              "    </tr>\n",
              "    <tr>\n",
              "      <th>26</th>\n",
              "      <td>0</td>\n",
              "      <td>3</td>\n",
              "    </tr>\n",
              "    <tr>\n",
              "      <th>24</th>\n",
              "      <td>6</td>\n",
              "      <td>3</td>\n",
              "    </tr>\n",
              "    <tr>\n",
              "      <th>15</th>\n",
              "      <td>0</td>\n",
              "      <td>3</td>\n",
              "    </tr>\n",
              "    <tr>\n",
              "      <th>22</th>\n",
              "      <td>0</td>\n",
              "      <td>3</td>\n",
              "    </tr>\n",
              "    <tr>\n",
              "      <th>11</th>\n",
              "      <td>6</td>\n",
              "      <td>3</td>\n",
              "    </tr>\n",
              "    <tr>\n",
              "      <th>52</th>\n",
              "      <td>0</td>\n",
              "      <td>3</td>\n",
              "    </tr>\n",
              "    <tr>\n",
              "      <th>43</th>\n",
              "      <td>7</td>\n",
              "      <td>3</td>\n",
              "    </tr>\n",
              "    <tr>\n",
              "      <th>3</th>\n",
              "      <td>1</td>\n",
              "      <td>3</td>\n",
              "    </tr>\n",
              "    <tr>\n",
              "      <th>35</th>\n",
              "      <td>2</td>\n",
              "      <td>2</td>\n",
              "    </tr>\n",
              "    <tr>\n",
              "      <th>19</th>\n",
              "      <td>2</td>\n",
              "      <td>2</td>\n",
              "    </tr>\n",
              "    <tr>\n",
              "      <th>37</th>\n",
              "      <td>0</td>\n",
              "      <td>2</td>\n",
              "    </tr>\n",
              "    <tr>\n",
              "      <th>17</th>\n",
              "      <td>0</td>\n",
              "      <td>2</td>\n",
              "    </tr>\n",
              "    <tr>\n",
              "      <th>16</th>\n",
              "      <td>2</td>\n",
              "      <td>2</td>\n",
              "    </tr>\n",
              "    <tr>\n",
              "      <th>13</th>\n",
              "      <td>0</td>\n",
              "      <td>2</td>\n",
              "    </tr>\n",
              "    <tr>\n",
              "      <th>38</th>\n",
              "      <td>2</td>\n",
              "      <td>2</td>\n",
              "    </tr>\n",
              "    <tr>\n",
              "      <th>54</th>\n",
              "      <td>0</td>\n",
              "      <td>2</td>\n",
              "    </tr>\n",
              "    <tr>\n",
              "      <th>50</th>\n",
              "      <td>0</td>\n",
              "      <td>1</td>\n",
              "    </tr>\n",
              "    <tr>\n",
              "      <th>45</th>\n",
              "      <td>0</td>\n",
              "      <td>1</td>\n",
              "    </tr>\n",
              "    <tr>\n",
              "      <th>41</th>\n",
              "      <td>0</td>\n",
              "      <td>1</td>\n",
              "    </tr>\n",
              "    <tr>\n",
              "      <th>56</th>\n",
              "      <td>0</td>\n",
              "      <td>1</td>\n",
              "    </tr>\n",
              "    <tr>\n",
              "      <th>55</th>\n",
              "      <td>0</td>\n",
              "      <td>1</td>\n",
              "    </tr>\n",
              "    <tr>\n",
              "      <th>44</th>\n",
              "      <td>1</td>\n",
              "      <td>1</td>\n",
              "    </tr>\n",
              "    <tr>\n",
              "      <th>47</th>\n",
              "      <td>0</td>\n",
              "      <td>1</td>\n",
              "    </tr>\n",
              "    <tr>\n",
              "      <th>46</th>\n",
              "      <td>0</td>\n",
              "      <td>1</td>\n",
              "    </tr>\n",
              "    <tr>\n",
              "      <th>48</th>\n",
              "      <td>0</td>\n",
              "      <td>1</td>\n",
              "    </tr>\n",
              "    <tr>\n",
              "      <th>51</th>\n",
              "      <td>0</td>\n",
              "      <td>1</td>\n",
              "    </tr>\n",
              "    <tr>\n",
              "      <th>49</th>\n",
              "      <td>0</td>\n",
              "      <td>1</td>\n",
              "    </tr>\n",
              "    <tr>\n",
              "      <th>1</th>\n",
              "      <td>1</td>\n",
              "      <td>1</td>\n",
              "    </tr>\n",
              "    <tr>\n",
              "      <th>29</th>\n",
              "      <td>3</td>\n",
              "      <td>1</td>\n",
              "    </tr>\n",
              "    <tr>\n",
              "      <th>57</th>\n",
              "      <td>0</td>\n",
              "      <td>1</td>\n",
              "    </tr>\n",
              "    <tr>\n",
              "      <th>20</th>\n",
              "      <td>2</td>\n",
              "      <td>1</td>\n",
              "    </tr>\n",
              "    <tr>\n",
              "      <th>36</th>\n",
              "      <td>0</td>\n",
              "      <td>1</td>\n",
              "    </tr>\n",
              "    <tr>\n",
              "      <th>34</th>\n",
              "      <td>0</td>\n",
              "      <td>1</td>\n",
              "    </tr>\n",
              "    <tr>\n",
              "      <th>31</th>\n",
              "      <td>0</td>\n",
              "      <td>1</td>\n",
              "    </tr>\n",
              "    <tr>\n",
              "      <th>12</th>\n",
              "      <td>2</td>\n",
              "      <td>1</td>\n",
              "    </tr>\n",
              "    <tr>\n",
              "      <th>4</th>\n",
              "      <td>1</td>\n",
              "      <td>0</td>\n",
              "    </tr>\n",
              "    <tr>\n",
              "      <th>6</th>\n",
              "      <td>2</td>\n",
              "      <td>0</td>\n",
              "    </tr>\n",
              "    <tr>\n",
              "      <th>7</th>\n",
              "      <td>2</td>\n",
              "      <td>0</td>\n",
              "    </tr>\n",
              "    <tr>\n",
              "      <th>8</th>\n",
              "      <td>4</td>\n",
              "      <td>0</td>\n",
              "    </tr>\n",
              "    <tr>\n",
              "      <th>9</th>\n",
              "      <td>3</td>\n",
              "      <td>0</td>\n",
              "    </tr>\n",
              "    <tr>\n",
              "      <th>39</th>\n",
              "      <td>2</td>\n",
              "      <td>0</td>\n",
              "    </tr>\n",
              "    <tr>\n",
              "      <th>25</th>\n",
              "      <td>3</td>\n",
              "      <td>0</td>\n",
              "    </tr>\n",
              "    <tr>\n",
              "      <th>40</th>\n",
              "      <td>1</td>\n",
              "      <td>0</td>\n",
              "    </tr>\n",
              "    <tr>\n",
              "      <th>2</th>\n",
              "      <td>5</td>\n",
              "      <td>0</td>\n",
              "    </tr>\n",
              "    <tr>\n",
              "      <th>32</th>\n",
              "      <td>1</td>\n",
              "      <td>0</td>\n",
              "    </tr>\n",
              "    <tr>\n",
              "      <th>33</th>\n",
              "      <td>2</td>\n",
              "      <td>0</td>\n",
              "    </tr>\n",
              "    <tr>\n",
              "      <th>42</th>\n",
              "      <td>1</td>\n",
              "      <td>0</td>\n",
              "    </tr>\n",
              "    <tr>\n",
              "      <th>28</th>\n",
              "      <td>2</td>\n",
              "      <td>0</td>\n",
              "    </tr>\n",
              "  </tbody>\n",
              "</table>\n",
              "</div>\n",
              "      <button class=\"colab-df-convert\" onclick=\"convertToInteractive('df-7240f224-8d46-4759-a009-1573edb548c0')\"\n",
              "              title=\"Convert this dataframe to an interactive table.\"\n",
              "              style=\"display:none;\">\n",
              "        \n",
              "  <svg xmlns=\"http://www.w3.org/2000/svg\" height=\"24px\"viewBox=\"0 0 24 24\"\n",
              "       width=\"24px\">\n",
              "    <path d=\"M0 0h24v24H0V0z\" fill=\"none\"/>\n",
              "    <path d=\"M18.56 5.44l.94 2.06.94-2.06 2.06-.94-2.06-.94-.94-2.06-.94 2.06-2.06.94zm-11 1L8.5 8.5l.94-2.06 2.06-.94-2.06-.94L8.5 2.5l-.94 2.06-2.06.94zm10 10l.94 2.06.94-2.06 2.06-.94-2.06-.94-.94-2.06-.94 2.06-2.06.94z\"/><path d=\"M17.41 7.96l-1.37-1.37c-.4-.4-.92-.59-1.43-.59-.52 0-1.04.2-1.43.59L10.3 9.45l-7.72 7.72c-.78.78-.78 2.05 0 2.83L4 21.41c.39.39.9.59 1.41.59.51 0 1.02-.2 1.41-.59l7.78-7.78 2.81-2.81c.8-.78.8-2.07 0-2.86zM5.41 20L4 18.59l7.72-7.72 1.47 1.35L5.41 20z\"/>\n",
              "  </svg>\n",
              "      </button>\n",
              "      \n",
              "  <style>\n",
              "    .colab-df-container {\n",
              "      display:flex;\n",
              "      flex-wrap:wrap;\n",
              "      gap: 12px;\n",
              "    }\n",
              "\n",
              "    .colab-df-convert {\n",
              "      background-color: #E8F0FE;\n",
              "      border: none;\n",
              "      border-radius: 50%;\n",
              "      cursor: pointer;\n",
              "      display: none;\n",
              "      fill: #1967D2;\n",
              "      height: 32px;\n",
              "      padding: 0 0 0 0;\n",
              "      width: 32px;\n",
              "    }\n",
              "\n",
              "    .colab-df-convert:hover {\n",
              "      background-color: #E2EBFA;\n",
              "      box-shadow: 0px 1px 2px rgba(60, 64, 67, 0.3), 0px 1px 3px 1px rgba(60, 64, 67, 0.15);\n",
              "      fill: #174EA6;\n",
              "    }\n",
              "\n",
              "    [theme=dark] .colab-df-convert {\n",
              "      background-color: #3B4455;\n",
              "      fill: #D2E3FC;\n",
              "    }\n",
              "\n",
              "    [theme=dark] .colab-df-convert:hover {\n",
              "      background-color: #434B5C;\n",
              "      box-shadow: 0px 1px 3px 1px rgba(0, 0, 0, 0.15);\n",
              "      filter: drop-shadow(0px 1px 2px rgba(0, 0, 0, 0.3));\n",
              "      fill: #FFFFFF;\n",
              "    }\n",
              "  </style>\n",
              "\n",
              "      <script>\n",
              "        const buttonEl =\n",
              "          document.querySelector('#df-7240f224-8d46-4759-a009-1573edb548c0 button.colab-df-convert');\n",
              "        buttonEl.style.display =\n",
              "          google.colab.kernel.accessAllowed ? 'block' : 'none';\n",
              "\n",
              "        async function convertToInteractive(key) {\n",
              "          const element = document.querySelector('#df-7240f224-8d46-4759-a009-1573edb548c0');\n",
              "          const dataTable =\n",
              "            await google.colab.kernel.invokeFunction('convertToInteractive',\n",
              "                                                     [key], {});\n",
              "          if (!dataTable) return;\n",
              "\n",
              "          const docLinkHtml = 'Like what you see? Visit the ' +\n",
              "            '<a target=\"_blank\" href=https://colab.research.google.com/notebooks/data_table.ipynb>data table notebook</a>'\n",
              "            + ' to learn more about interactive tables.';\n",
              "          element.innerHTML = '';\n",
              "          dataTable['output_type'] = 'display_data';\n",
              "          await google.colab.output.renderOutput(dataTable, element);\n",
              "          const docLink = document.createElement('div');\n",
              "          docLink.innerHTML = docLinkHtml;\n",
              "          element.appendChild(docLink);\n",
              "        }\n",
              "      </script>\n",
              "    </div>\n",
              "  </div>\n",
              "  "
            ]
          },
          "metadata": {},
          "execution_count": 15
        }
      ],
      "source": [
        "customer_late =pd.crosstab(index=df_receivable[\"Контрагент\"], columns=df_receivable['Просрочка'])\n",
        "customer_late.sort_values(by=[1], ascending = False)"
      ]
    },
    {
      "cell_type": "code",
      "execution_count": 16,
      "metadata": {
        "id": "lHbXNpwCv1RI"
      },
      "outputs": [],
      "source": [
        "df1 = df_receivable[df_receivable['Сумма']>0].copy()"
      ]
    },
    {
      "cell_type": "code",
      "execution_count": 17,
      "metadata": {
        "id": "sxbbqgW9v1RI"
      },
      "outputs": [],
      "source": [
        "df2 = pd.DataFrame(df1.groupby(['Контрагент'], axis=0, as_index=False)['Сумма'].count())\n",
        "df2.columns = (['Контрагент','repeatCust'])\n",
        "df3 = pd.merge(df_receivable, df2, how='left', on='Контрагент')\n",
        "df3['repeatCust'].fillna(0, inplace=True)"
      ]
    },
    {
      "cell_type": "code",
      "execution_count": 18,
      "metadata": {
        "colab": {
          "base_uri": "https://localhost:8080/",
          "height": 467
        },
        "id": "Q-bgm2g1v1RJ",
        "outputId": "e0a7f8e0-b317-472a-eea7-ce3ad914b129"
      },
      "outputs": [
        {
          "output_type": "execute_result",
          "data": {
            "text/plain": [
              "<matplotlib.axes._subplots.AxesSubplot at 0x7fd42f4592b0>"
            ]
          },
          "metadata": {},
          "execution_count": 18
        },
        {
          "output_type": "display_data",
          "data": {
            "text/plain": [
              "<Figure size 1008x504 with 1 Axes>"
            ],
            "image/png": "[encoded data removed]"
          },
          "metadata": {}
        }
      ],
      "source": [
        "df_receivable = df3\n",
        "temp = pd.DataFrame(df_receivable.groupby(['repeatCust'], axis=0, as_index=False)['Сумма'].mean())\n",
        "plt.figure(figsize=(14,7))\n",
        "sns.barplot(x=\"repeatCust\", y=\"Сумма\",data=temp,color='olive')"
      ]
    },
    {
      "cell_type": "code",
      "execution_count": 19,
      "metadata": {
        "id": "VVQTSzEKv1RK"
      },
      "outputs": [],
      "source": [
        "def func_IA (x):\n",
        "    if x>60: return \"b. more than 60\"\n",
        "    else: return \"a. less than 60\"\n",
        "df_receivable['Сумма_bin'] = df_receivable['Сумма'].apply(func_IA)"
      ]
    },
    {
      "cell_type": "code",
      "execution_count": 20,
      "metadata": {
        "colab": {
          "base_uri": "https://localhost:8080/",
          "height": 275
        },
        "id": "qRx5g_QSv1RK",
        "outputId": "07007af2-7524-4ff2-9d91-92dfb20f8b00"
      },
      "outputs": [
        {
          "output_type": "execute_result",
          "data": {
            "text/plain": [
              "                                      НомерДокумента ФактическаяДатаПлатежа  \\\n",
              "0  Документ расчетов с контрагентом МТ00-00000000...             2022-03-11   \n",
              "1  Реализация (акт, накладная, УПД) МТ00-00000000...             2022-03-16   \n",
              "2  Реализация (акт, накладная, УПД) МТ00-00000000...             2022-04-13   \n",
              "\n",
              "  ДатаПлатежаПоДоговору     Сумма  Контрагент  Просрочка  ОКВЭД ГруппаОКВЭД  \\\n",
              "0            2022-03-31   5175.84           1          0      0         н/д   \n",
              "1            2022-03-31  17569.40           2          0  73.11     Реклама   \n",
              "2            2022-04-30  62889.16           2          0  73.11     Реклама   \n",
              "\n",
              "   ГодРегистрацииК/а ГруппаКомпаний  countlate  repeatCust        Сумма_bin  \n",
              "0                  0            нет          0           2  b. more than 60  \n",
              "1               2017            нет          0           5  b. more than 60  \n",
              "2               2017            нет          0           5  b. more than 60  "
            ],
            "text/html": [
              "\n",
              "  <div id=\"df-fa2e8e2a-a25c-4e48-8d53-410f538fbabf\">\n",
              "    <div class=\"colab-df-container\">\n",
              "      <div>\n",
              "<style scoped>\n",
              "    .dataframe tbody tr th:only-of-type {\n",
              "        vertical-align: middle;\n",
              "    }\n",
              "\n",
              "    .dataframe tbody tr th {\n",
              "        vertical-align: top;\n",
              "    }\n",
              "\n",
              "    .dataframe thead th {\n",
              "        text-align: right;\n",
              "    }\n",
              "</style>\n",
              "<table border=\"1\" class=\"dataframe\">\n",
              "  <thead>\n",
              "    <tr style=\"text-align: right;\">\n",
              "      <th></th>\n",
              "      <th>НомерДокумента</th>\n",
              "      <th>ФактическаяДатаПлатежа</th>\n",
              "      <th>ДатаПлатежаПоДоговору</th>\n",
              "      <th>Сумма</th>\n",
              "      <th>Контрагент</th>\n",
              "      <th>Просрочка</th>\n",
              "      <th>ОКВЭД</th>\n",
              "      <th>ГруппаОКВЭД</th>\n",
              "      <th>ГодРегистрацииК/а</th>\n",
              "      <th>ГруппаКомпаний</th>\n",
              "      <th>countlate</th>\n",
              "      <th>repeatCust</th>\n",
              "      <th>Сумма_bin</th>\n",
              "    </tr>\n",
              "  </thead>\n",
              "  <tbody>\n",
              "    <tr>\n",
              "      <th>0</th>\n",
              "      <td>Документ расчетов с контрагентом МТ00-00000000...</td>\n",
              "      <td>2022-03-11</td>\n",
              "      <td>2022-03-31</td>\n",
              "      <td>5175.84</td>\n",
              "      <td>1</td>\n",
              "      <td>0</td>\n",
              "      <td>0</td>\n",
              "      <td>н/д</td>\n",
              "      <td>0</td>\n",
              "      <td>нет</td>\n",
              "      <td>0</td>\n",
              "      <td>2</td>\n",
              "      <td>b. more than 60</td>\n",
              "    </tr>\n",
              "    <tr>\n",
              "      <th>1</th>\n",
              "      <td>Реализация (акт, накладная, УПД) МТ00-00000000...</td>\n",
              "      <td>2022-03-16</td>\n",
              "      <td>2022-03-31</td>\n",
              "      <td>17569.40</td>\n",
              "      <td>2</td>\n",
              "      <td>0</td>\n",
              "      <td>73.11</td>\n",
              "      <td>Реклама</td>\n",
              "      <td>2017</td>\n",
              "      <td>нет</td>\n",
              "      <td>0</td>\n",
              "      <td>5</td>\n",
              "      <td>b. more than 60</td>\n",
              "    </tr>\n",
              "    <tr>\n",
              "      <th>2</th>\n",
              "      <td>Реализация (акт, накладная, УПД) МТ00-00000000...</td>\n",
              "      <td>2022-04-13</td>\n",
              "      <td>2022-04-30</td>\n",
              "      <td>62889.16</td>\n",
              "      <td>2</td>\n",
              "      <td>0</td>\n",
              "      <td>73.11</td>\n",
              "      <td>Реклама</td>\n",
              "      <td>2017</td>\n",
              "      <td>нет</td>\n",
              "      <td>0</td>\n",
              "      <td>5</td>\n",
              "      <td>b. more than 60</td>\n",
              "    </tr>\n",
              "  </tbody>\n",
              "</table>\n",
              "</div>\n",
              "      <button class=\"colab-df-convert\" onclick=\"convertToInteractive('df-fa2e8e2a-a25c-4e48-8d53-410f538fbabf')\"\n",
              "              title=\"Convert this dataframe to an interactive table.\"\n",
              "              style=\"display:none;\">\n",
              "        \n",
              "  <svg xmlns=\"http://www.w3.org/2000/svg\" height=\"24px\"viewBox=\"0 0 24 24\"\n",
              "       width=\"24px\">\n",
              "    <path d=\"M0 0h24v24H0V0z\" fill=\"none\"/>\n",
              "    <path d=\"M18.56 5.44l.94 2.06.94-2.06 2.06-.94-2.06-.94-.94-2.06-.94 2.06-2.06.94zm-11 1L8.5 8.5l.94-2.06 2.06-.94-2.06-.94L8.5 2.5l-.94 2.06-2.06.94zm10 10l.94 2.06.94-2.06 2.06-.94-2.06-.94-.94-2.06-.94 2.06-2.06.94z\"/><path d=\"M17.41 7.96l-1.37-1.37c-.4-.4-.92-.59-1.43-.59-.52 0-1.04.2-1.43.59L10.3 9.45l-7.72 7.72c-.78.78-.78 2.05 0 2.83L4 21.41c.39.39.9.59 1.41.59.51 0 1.02-.2 1.41-.59l7.78-7.78 2.81-2.81c.8-.78.8-2.07 0-2.86zM5.41 20L4 18.59l7.72-7.72 1.47 1.35L5.41 20z\"/>\n",
              "  </svg>\n",
              "      </button>\n",
              "      \n",
              "  <style>\n",
              "    .colab-df-container {\n",
              "      display:flex;\n",
              "      flex-wrap:wrap;\n",
              "      gap: 12px;\n",
              "    }\n",
              "\n",
              "    .colab-df-convert {\n",
              "      background-color: #E8F0FE;\n",
              "      border: none;\n",
              "      border-radius: 50%;\n",
              "      cursor: pointer;\n",
              "      display: none;\n",
              "      fill: #1967D2;\n",
              "      height: 32px;\n",
              "      padding: 0 0 0 0;\n",
              "      width: 32px;\n",
              "    }\n",
              "\n",
              "    .colab-df-convert:hover {\n",
              "      background-color: #E2EBFA;\n",
              "      box-shadow: 0px 1px 2px rgba(60, 64, 67, 0.3), 0px 1px 3px 1px rgba(60, 64, 67, 0.15);\n",
              "      fill: #174EA6;\n",
              "    }\n",
              "\n",
              "    [theme=dark] .colab-df-convert {\n",
              "      background-color: #3B4455;\n",
              "      fill: #D2E3FC;\n",
              "    }\n",
              "\n",
              "    [theme=dark] .colab-df-convert:hover {\n",
              "      background-color: #434B5C;\n",
              "      box-shadow: 0px 1px 3px 1px rgba(0, 0, 0, 0.15);\n",
              "      filter: drop-shadow(0px 1px 2px rgba(0, 0, 0, 0.3));\n",
              "      fill: #FFFFFF;\n",
              "    }\n",
              "  </style>\n",
              "\n",
              "      <script>\n",
              "        const buttonEl =\n",
              "          document.querySelector('#df-fa2e8e2a-a25c-4e48-8d53-410f538fbabf button.colab-df-convert');\n",
              "        buttonEl.style.display =\n",
              "          google.colab.kernel.accessAllowed ? 'block' : 'none';\n",
              "\n",
              "        async function convertToInteractive(key) {\n",
              "          const element = document.querySelector('#df-fa2e8e2a-a25c-4e48-8d53-410f538fbabf');\n",
              "          const dataTable =\n",
              "            await google.colab.kernel.invokeFunction('convertToInteractive',\n",
              "                                                     [key], {});\n",
              "          if (!dataTable) return;\n",
              "\n",
              "          const docLinkHtml = 'Like what you see? Visit the ' +\n",
              "            '<a target=\"_blank\" href=https://colab.research.google.com/notebooks/data_table.ipynb>data table notebook</a>'\n",
              "            + ' to learn more about interactive tables.';\n",
              "          element.innerHTML = '';\n",
              "          dataTable['output_type'] = 'display_data';\n",
              "          await google.colab.output.renderOutput(dataTable, element);\n",
              "          const docLink = document.createElement('div');\n",
              "          docLink.innerHTML = docLinkHtml;\n",
              "          element.appendChild(docLink);\n",
              "        }\n",
              "      </script>\n",
              "    </div>\n",
              "  </div>\n",
              "  "
            ]
          },
          "metadata": {},
          "execution_count": 20
        }
      ],
      "source": [
        "df_receivable.head(3)"
      ]
    },
    {
      "cell_type": "code",
      "execution_count": 21,
      "metadata": {
        "id": "1fg06k0ov1RL"
      },
      "outputs": [],
      "source": [
        "temp = pd.DataFrame(df_receivable.groupby(['Сумма_bin'], axis=0, as_index=False)['Сумма'].mean())"
      ]
    },
    {
      "cell_type": "code",
      "execution_count": 22,
      "metadata": {
        "colab": {
          "base_uri": "https://localhost:8080/",
          "height": 413
        },
        "id": "y2nGws8Ev1RL",
        "outputId": "66817390-4e94-42ef-d833-a6619cb0daf5"
      },
      "outputs": [
        {
          "output_type": "execute_result",
          "data": {
            "text/plain": [
              "<matplotlib.axes._subplots.AxesSubplot at 0x7fd42f5685b0>"
            ]
          },
          "metadata": {},
          "execution_count": 22
        },
        {
          "output_type": "display_data",
          "data": {
            "text/plain": [
              "<Figure size 720x432 with 1 Axes>"
            ],
            "image/png": "[encoded data removed]"
          },
          "metadata": {}
        }
      ],
      "source": [
        "plt.figure(figsize=(10,6))\n",
        "sns.barplot(x=\"Сумма_bin\", y=\"Сумма\",data=temp,color='purple')"
      ]
    },
    {
      "cell_type": "code",
      "execution_count": 23,
      "metadata": {
        "id": "pONrk4psv1RM"
      },
      "outputs": [],
      "source": [
        "df_receivable['ГруппаОКВЭД'] = df_receivable['ГруппаОКВЭД'].map({'н/д':0,'Реклама':1,'ИТ':2,'ТВ':3,'Прочее':4})\n",
        "df_receivable['ГруппаКомпаний'] = df_receivable['ГруппаКомпаний'].map({'нет': 0,'да': 1})"
      ]
    },
    {
      "cell_type": "code",
      "execution_count": 24,
      "metadata": {
        "id": "osM2x1OFv1RM"
      },
      "outputs": [],
      "source": [
        "df_receivable['InvoiceQuarter']= pd.to_datetime(df_receivable['ФактическаяДатаПлатежа']).dt.quarter"
      ]
    },
    {
      "cell_type": "code",
      "execution_count": 25,
      "metadata": {
        "colab": {
          "base_uri": "https://localhost:8080/",
          "height": 565
        },
        "id": "cAcLYiu_v1RN",
        "outputId": "3e17f541-875d-4b28-a9b5-67b11f480ea6"
      },
      "outputs": [
        {
          "output_type": "execute_result",
          "data": {
            "text/plain": [
              "                                      НомерДокумента ФактическаяДатаПлатежа  \\\n",
              "0  Документ расчетов с контрагентом МТ00-00000000...             2022-03-11   \n",
              "1  Реализация (акт, накладная, УПД) МТ00-00000000...             2022-03-16   \n",
              "2  Реализация (акт, накладная, УПД) МТ00-00000000...             2022-04-13   \n",
              "3  Реализация (акт, накладная, УПД) МТ00-00000001...             2022-05-11   \n",
              "4  Реализация (акт, накладная, УПД) МТ00-00000001...             2022-06-09   \n",
              "\n",
              "  ДатаПлатежаПоДоговору      Сумма  Контрагент  Просрочка  ОКВЭД  ГруппаОКВЭД  \\\n",
              "0            2022-03-31    5175.84           1          0      0            0   \n",
              "1            2022-03-31   17569.40           2          0  73.11            1   \n",
              "2            2022-04-30   62889.16           2          0  73.11            1   \n",
              "3            2022-05-31  198885.74           2          0  73.11            1   \n",
              "4            2022-06-30   96746.69           2          0  73.11            1   \n",
              "\n",
              "   ГодРегистрацииК/а  ГруппаКомпаний  countlate  repeatCust        Сумма_bin  \\\n",
              "0                  0               0          0           2  b. more than 60   \n",
              "1               2017               0          0           5  b. more than 60   \n",
              "2               2017               0          0           5  b. more than 60   \n",
              "3               2017               0          0           5  b. more than 60   \n",
              "4               2017               0          0           5  b. more than 60   \n",
              "\n",
              "   InvoiceQuarter  \n",
              "0               1  \n",
              "1               1  \n",
              "2               2  \n",
              "3               2  \n",
              "4               2  "
            ],
            "text/html": [
              "\n",
              "  <div id=\"df-ba664c76-22e6-4efb-8fd2-b669ba91cf4f\">\n",
              "    <div class=\"colab-df-container\">\n",
              "      <div>\n",
              "<style scoped>\n",
              "    .dataframe tbody tr th:only-of-type {\n",
              "        vertical-align: middle;\n",
              "    }\n",
              "\n",
              "    .dataframe tbody tr th {\n",
              "        vertical-align: top;\n",
              "    }\n",
              "\n",
              "    .dataframe thead th {\n",
              "        text-align: right;\n",
              "    }\n",
              "</style>\n",
              "<table border=\"1\" class=\"dataframe\">\n",
              "  <thead>\n",
              "    <tr style=\"text-align: right;\">\n",
              "      <th></th>\n",
              "      <th>НомерДокумента</th>\n",
              "      <th>ФактическаяДатаПлатежа</th>\n",
              "      <th>ДатаПлатежаПоДоговору</th>\n",
              "      <th>Сумма</th>\n",
              "      <th>Контрагент</th>\n",
              "      <th>Просрочка</th>\n",
              "      <th>ОКВЭД</th>\n",
              "      <th>ГруппаОКВЭД</th>\n",
              "      <th>ГодРегистрацииК/а</th>\n",
              "      <th>ГруппаКомпаний</th>\n",
              "      <th>countlate</th>\n",
              "      <th>repeatCust</th>\n",
              "      <th>Сумма_bin</th>\n",
              "      <th>InvoiceQuarter</th>\n",
              "    </tr>\n",
              "  </thead>\n",
              "  <tbody>\n",
              "    <tr>\n",
              "      <th>0</th>\n",
              "      <td>Документ расчетов с контрагентом МТ00-00000000...</td>\n",
              "      <td>2022-03-11</td>\n",
              "      <td>2022-03-31</td>\n",
              "      <td>5175.84</td>\n",
              "      <td>1</td>\n",
              "      <td>0</td>\n",
              "      <td>0</td>\n",
              "      <td>0</td>\n",
              "      <td>0</td>\n",
              "      <td>0</td>\n",
              "      <td>0</td>\n",
              "      <td>2</td>\n",
              "      <td>b. more than 60</td>\n",
              "      <td>1</td>\n",
              "    </tr>\n",
              "    <tr>\n",
              "      <th>1</th>\n",
              "      <td>Реализация (акт, накладная, УПД) МТ00-00000000...</td>\n",
              "      <td>2022-03-16</td>\n",
              "      <td>2022-03-31</td>\n",
              "      <td>17569.40</td>\n",
              "      <td>2</td>\n",
              "      <td>0</td>\n",
              "      <td>73.11</td>\n",
              "      <td>1</td>\n",
              "      <td>2017</td>\n",
              "      <td>0</td>\n",
              "      <td>0</td>\n",
              "      <td>5</td>\n",
              "      <td>b. more than 60</td>\n",
              "      <td>1</td>\n",
              "    </tr>\n",
              "    <tr>\n",
              "      <th>2</th>\n",
              "      <td>Реализация (акт, накладная, УПД) МТ00-00000000...</td>\n",
              "      <td>2022-04-13</td>\n",
              "      <td>2022-04-30</td>\n",
              "      <td>62889.16</td>\n",
              "      <td>2</td>\n",
              "      <td>0</td>\n",
              "      <td>73.11</td>\n",
              "      <td>1</td>\n",
              "      <td>2017</td>\n",
              "      <td>0</td>\n",
              "      <td>0</td>\n",
              "      <td>5</td>\n",
              "      <td>b. more than 60</td>\n",
              "      <td>2</td>\n",
              "    </tr>\n",
              "    <tr>\n",
              "      <th>3</th>\n",
              "      <td>Реализация (акт, накладная, УПД) МТ00-00000001...</td>\n",
              "      <td>2022-05-11</td>\n",
              "      <td>2022-05-31</td>\n",
              "      <td>198885.74</td>\n",
              "      <td>2</td>\n",
              "      <td>0</td>\n",
              "      <td>73.11</td>\n",
              "      <td>1</td>\n",
              "      <td>2017</td>\n",
              "      <td>0</td>\n",
              "      <td>0</td>\n",
              "      <td>5</td>\n",
              "      <td>b. more than 60</td>\n",
              "      <td>2</td>\n",
              "    </tr>\n",
              "    <tr>\n",
              "      <th>4</th>\n",
              "      <td>Реализация (акт, накладная, УПД) МТ00-00000001...</td>\n",
              "      <td>2022-06-09</td>\n",
              "      <td>2022-06-30</td>\n",
              "      <td>96746.69</td>\n",
              "      <td>2</td>\n",
              "      <td>0</td>\n",
              "      <td>73.11</td>\n",
              "      <td>1</td>\n",
              "      <td>2017</td>\n",
              "      <td>0</td>\n",
              "      <td>0</td>\n",
              "      <td>5</td>\n",
              "      <td>b. more than 60</td>\n",
              "      <td>2</td>\n",
              "    </tr>\n",
              "  </tbody>\n",
              "</table>\n",
              "</div>\n",
              "      <button class=\"colab-df-convert\" onclick=\"convertToInteractive('df-ba664c76-22e6-4efb-8fd2-b669ba91cf4f')\"\n",
              "              title=\"Convert this dataframe to an interactive table.\"\n",
              "              style=\"display:none;\">\n",
              "        \n",
              "  <svg xmlns=\"http://www.w3.org/2000/svg\" height=\"24px\"viewBox=\"0 0 24 24\"\n",
              "       width=\"24px\">\n",
              "    <path d=\"M0 0h24v24H0V0z\" fill=\"none\"/>\n",
              "    <path d=\"M18.56 5.44l.94 2.06.94-2.06 2.06-.94-2.06-.94-.94-2.06-.94 2.06-2.06.94zm-11 1L8.5 8.5l.94-2.06 2.06-.94-2.06-.94L8.5 2.5l-.94 2.06-2.06.94zm10 10l.94 2.06.94-2.06 2.06-.94-2.06-.94-.94-2.06-.94 2.06-2.06.94z\"/><path d=\"M17.41 7.96l-1.37-1.37c-.4-.4-.92-.59-1.43-.59-.52 0-1.04.2-1.43.59L10.3 9.45l-7.72 7.72c-.78.78-.78 2.05 0 2.83L4 21.41c.39.39.9.59 1.41.59.51 0 1.02-.2 1.41-.59l7.78-7.78 2.81-2.81c.8-.78.8-2.07 0-2.86zM5.41 20L4 18.59l7.72-7.72 1.47 1.35L5.41 20z\"/>\n",
              "  </svg>\n",
              "      </button>\n",
              "      \n",
              "  <style>\n",
              "    .colab-df-container {\n",
              "      display:flex;\n",
              "      flex-wrap:wrap;\n",
              "      gap: 12px;\n",
              "    }\n",
              "\n",
              "    .colab-df-convert {\n",
              "      background-color: #E8F0FE;\n",
              "      border: none;\n",
              "      border-radius: 50%;\n",
              "      cursor: pointer;\n",
              "      display: none;\n",
              "      fill: #1967D2;\n",
              "      height: 32px;\n",
              "      padding: 0 0 0 0;\n",
              "      width: 32px;\n",
              "    }\n",
              "\n",
              "    .colab-df-convert:hover {\n",
              "      background-color: #E2EBFA;\n",
              "      box-shadow: 0px 1px 2px rgba(60, 64, 67, 0.3), 0px 1px 3px 1px rgba(60, 64, 67, 0.15);\n",
              "      fill: #174EA6;\n",
              "    }\n",
              "\n",
              "    [theme=dark] .colab-df-convert {\n",
              "      background-color: #3B4455;\n",
              "      fill: #D2E3FC;\n",
              "    }\n",
              "\n",
              "    [theme=dark] .colab-df-convert:hover {\n",
              "      background-color: #434B5C;\n",
              "      box-shadow: 0px 1px 3px 1px rgba(0, 0, 0, 0.15);\n",
              "      filter: drop-shadow(0px 1px 2px rgba(0, 0, 0, 0.3));\n",
              "      fill: #FFFFFF;\n",
              "    }\n",
              "  </style>\n",
              "\n",
              "      <script>\n",
              "        const buttonEl =\n",
              "          document.querySelector('#df-ba664c76-22e6-4efb-8fd2-b669ba91cf4f button.colab-df-convert');\n",
              "        buttonEl.style.display =\n",
              "          google.colab.kernel.accessAllowed ? 'block' : 'none';\n",
              "\n",
              "        async function convertToInteractive(key) {\n",
              "          const element = document.querySelector('#df-ba664c76-22e6-4efb-8fd2-b669ba91cf4f');\n",
              "          const dataTable =\n",
              "            await google.colab.kernel.invokeFunction('convertToInteractive',\n",
              "                                                     [key], {});\n",
              "          if (!dataTable) return;\n",
              "\n",
              "          const docLinkHtml = 'Like what you see? Visit the ' +\n",
              "            '<a target=\"_blank\" href=https://colab.research.google.com/notebooks/data_table.ipynb>data table notebook</a>'\n",
              "            + ' to learn more about interactive tables.';\n",
              "          element.innerHTML = '';\n",
              "          dataTable['output_type'] = 'display_data';\n",
              "          await google.colab.output.renderOutput(dataTable, element);\n",
              "          const docLink = document.createElement('div');\n",
              "          docLink.innerHTML = docLinkHtml;\n",
              "          element.appendChild(docLink);\n",
              "        }\n",
              "      </script>\n",
              "    </div>\n",
              "  </div>\n",
              "  "
            ]
          },
          "metadata": {},
          "execution_count": 25
        }
      ],
      "source": [
        "df_receivable.head(5)"
      ]
    },
    {
      "cell_type": "code",
      "execution_count": 26,
      "metadata": {
        "colab": {
          "base_uri": "https://localhost:8080/",
          "height": 549
        },
        "id": "2uAc7A18v1RN",
        "outputId": "f81676da-1695-40ae-9e01-debee05f5fc2"
      },
      "outputs": [
        {
          "output_type": "stream",
          "name": "stderr",
          "text": [
            "/usr/local/lib/python3.8/dist-packages/seaborn/_decorators.py:36: FutureWarning: Pass the following variable as a keyword arg: x. From version 0.12, the only valid positional argument will be `data`, and passing other arguments without an explicit keyword will result in an error or misinterpretation.\n",
            "  warnings.warn(\n"
          ]
        },
        {
          "output_type": "display_data",
          "data": {
            "text/plain": [
              "<Figure size 720x576 with 1 Axes>"
            ],
            "image/png": "[encoded data removed]"
          },
          "metadata": {}
        }
      ],
      "source": [
        "plt.figure(figsize=(10,8))\n",
        "\n",
        "ax = sns.countplot(df_receivable['ГруппаКомпаний'],hue=df_receivable['Просрочка'],palette=\"YlGn\")"
      ]
    },
    {
      "cell_type": "code",
      "execution_count": 27,
      "metadata": {
        "colab": {
          "base_uri": "https://localhost:8080/",
          "height": 565
        },
        "id": "q9XCOP6wv1RO",
        "outputId": "978ec0ee-b90d-4db3-f64b-56eaf82236b7"
      },
      "outputs": [
        {
          "output_type": "stream",
          "name": "stderr",
          "text": [
            "/usr/local/lib/python3.8/dist-packages/seaborn/_decorators.py:36: FutureWarning: Pass the following variable as a keyword arg: x. From version 0.12, the only valid positional argument will be `data`, and passing other arguments without an explicit keyword will result in an error or misinterpretation.\n",
            "  warnings.warn(\n"
          ]
        },
        {
          "output_type": "execute_result",
          "data": {
            "text/plain": [
              "<matplotlib.axes._subplots.AxesSubplot at 0x7fd42ef3fb50>"
            ]
          },
          "metadata": {},
          "execution_count": 27
        },
        {
          "output_type": "display_data",
          "data": {
            "text/plain": [
              "<Figure size 720x576 with 1 Axes>"
            ],
            "image/png": "[encoded data removed]"
          },
          "metadata": {}
        }
      ],
      "source": [
        "plt.figure(figsize=(10,8))\n",
        "sns.countplot(df_receivable['InvoiceQuarter'],hue=df_receivable['Просрочка'],palette='bright')"
      ]
    },
    {
      "cell_type": "code",
      "execution_count": 28,
      "metadata": {
        "colab": {
          "base_uri": "https://localhost:8080/",
          "height": 565
        },
        "id": "V3mHMh5Yv1RO",
        "outputId": "89d35db7-9034-45d2-d58c-8a265212f1e2"
      },
      "outputs": [
        {
          "output_type": "stream",
          "name": "stderr",
          "text": [
            "/usr/local/lib/python3.8/dist-packages/seaborn/_decorators.py:36: FutureWarning: Pass the following variable as a keyword arg: x. From version 0.12, the only valid positional argument will be `data`, and passing other arguments without an explicit keyword will result in an error or misinterpretation.\n",
            "  warnings.warn(\n"
          ]
        },
        {
          "output_type": "execute_result",
          "data": {
            "text/plain": [
              "<matplotlib.axes._subplots.AxesSubplot at 0x7fd42f454dc0>"
            ]
          },
          "metadata": {},
          "execution_count": 28
        },
        {
          "output_type": "display_data",
          "data": {
            "text/plain": [
              "<Figure size 720x576 with 1 Axes>"
            ],
            "image/png": "[encoded data removed]"
          },
          "metadata": {}
        }
      ],
      "source": [
        "plt.figure(figsize=(10,8))\n",
        "sns.countplot(df_receivable['ОКВЭД'],hue=df_receivable['Просрочка'],palette='YlOrRd')"
      ]
    },
    {
      "cell_type": "code",
      "execution_count": 29,
      "metadata": {
        "colab": {
          "base_uri": "https://localhost:8080/",
          "height": 565
        },
        "id": "l9uDGEgxv1RO",
        "outputId": "0584656f-213e-4f8e-e60a-5d02fd0398dc"
      },
      "outputs": [
        {
          "output_type": "stream",
          "name": "stderr",
          "text": [
            "/usr/local/lib/python3.8/dist-packages/seaborn/_decorators.py:36: FutureWarning: Pass the following variable as a keyword arg: x. From version 0.12, the only valid positional argument will be `data`, and passing other arguments without an explicit keyword will result in an error or misinterpretation.\n",
            "  warnings.warn(\n"
          ]
        },
        {
          "output_type": "execute_result",
          "data": {
            "text/plain": [
              "<matplotlib.axes._subplots.AxesSubplot at 0x7fd42f4c1f10>"
            ]
          },
          "metadata": {},
          "execution_count": 29
        },
        {
          "output_type": "display_data",
          "data": {
            "text/plain": [
              "<Figure size 720x576 with 1 Axes>"
            ],
            "image/png": "[encoded data removed]"
          },
          "metadata": {}
        }
      ],
      "source": [
        "plt.figure(figsize=(10,8))\n",
        "sns.countplot(df_receivable['ГруппаОКВЭД'],hue=df_receivable['Просрочка'],palette='BuGn')"
      ]
    },
    {
      "cell_type": "code",
      "execution_count": 30,
      "metadata": {
        "id": "zQW-7dJAv1RP"
      },
      "outputs": [],
      "source": [
        "labels = df_receivable['НомерДокумента'].astype('category').cat.categories.tolist()"
      ]
    },
    {
      "cell_type": "code",
      "execution_count": 31,
      "metadata": {
        "id": "ceYfmfvgv1RP"
      },
      "outputs": [],
      "source": [
        "labels1 = df_receivable['ОКВЭД'].astype('category').cat.categories.tolist()"
      ]
    },
    {
      "cell_type": "code",
      "execution_count": 32,
      "metadata": {
        "id": "49Y8Ruhdv1RP"
      },
      "outputs": [],
      "source": [
        "replace_map_comp = {'НомерДокумента' : {k: v for k,v in zip(labels,list(range(1,len(labels)+1)))}}"
      ]
    },
    {
      "cell_type": "code",
      "execution_count": 33,
      "metadata": {
        "id": "JGDlA3-8v1RQ"
      },
      "outputs": [],
      "source": [
        "replace_map_comp1 = {'ОКВЭД' : {k: v for k,v in zip(labels1,list(range(1,len(labels)+1)))}}"
      ]
    },
    {
      "cell_type": "code",
      "execution_count": 34,
      "metadata": {
        "id": "DK1diFXrv1RQ"
      },
      "outputs": [],
      "source": [
        "df_receivable.replace(replace_map_comp, inplace=True)"
      ]
    },
    {
      "cell_type": "code",
      "execution_count": 35,
      "metadata": {
        "id": "nUv1nvoZv1RQ"
      },
      "outputs": [],
      "source": [
        "df_receivable.replace(replace_map_comp1, inplace=True)"
      ]
    },
    {
      "cell_type": "code",
      "execution_count": 36,
      "metadata": {
        "colab": {
          "base_uri": "https://localhost:8080/",
          "height": 277
        },
        "id": "HsSy3dxfv1RR",
        "outputId": "dfc9c861-9851-46d6-e40b-a0b850170445"
      },
      "outputs": [
        {
          "output_type": "execute_result",
          "data": {
            "text/plain": [
              "   НомерДокумента ФактическаяДатаПлатежа ДатаПлатежаПоДоговору     Сумма  \\\n",
              "0              90             2022-03-11            2022-03-31   5175.84   \n",
              "1             110             2022-03-16            2022-03-31  17569.40   \n",
              "2             151             2022-04-13            2022-04-30  62889.16   \n",
              "\n",
              "   Контрагент  Просрочка  ОКВЭД  ГруппаОКВЭД  ГодРегистрацииК/а  \\\n",
              "0           1          0      1            0                  0   \n",
              "1           2          0     20            1               2017   \n",
              "2           2          0     20            1               2017   \n",
              "\n",
              "   ГруппаКомпаний  countlate  repeatCust        Сумма_bin  InvoiceQuarter  \n",
              "0               0          0           2  b. more than 60               1  \n",
              "1               0          0           5  b. more than 60               1  \n",
              "2               0          0           5  b. more than 60               2  "
            ],
            "text/html": [
              "\n",
              "  <div id=\"df-49fb3d8d-dd26-404a-ba96-cc4e4f78d9e1\">\n",
              "    <div class=\"colab-df-container\">\n",
              "      <div>\n",
              "<style scoped>\n",
              "    .dataframe tbody tr th:only-of-type {\n",
              "        vertical-align: middle;\n",
              "    }\n",
              "\n",
              "    .dataframe tbody tr th {\n",
              "        vertical-align: top;\n",
              "    }\n",
              "\n",
              "    .dataframe thead th {\n",
              "        text-align: right;\n",
              "    }\n",
              "</style>\n",
              "<table border=\"1\" class=\"dataframe\">\n",
              "  <thead>\n",
              "    <tr style=\"text-align: right;\">\n",
              "      <th></th>\n",
              "      <th>НомерДокумента</th>\n",
              "      <th>ФактическаяДатаПлатежа</th>\n",
              "      <th>ДатаПлатежаПоДоговору</th>\n",
              "      <th>Сумма</th>\n",
              "      <th>Контрагент</th>\n",
              "      <th>Просрочка</th>\n",
              "      <th>ОКВЭД</th>\n",
              "      <th>ГруппаОКВЭД</th>\n",
              "      <th>ГодРегистрацииК/а</th>\n",
              "      <th>ГруппаКомпаний</th>\n",
              "      <th>countlate</th>\n",
              "      <th>repeatCust</th>\n",
              "      <th>Сумма_bin</th>\n",
              "      <th>InvoiceQuarter</th>\n",
              "    </tr>\n",
              "  </thead>\n",
              "  <tbody>\n",
              "    <tr>\n",
              "      <th>0</th>\n",
              "      <td>90</td>\n",
              "      <td>2022-03-11</td>\n",
              "      <td>2022-03-31</td>\n",
              "      <td>5175.84</td>\n",
              "      <td>1</td>\n",
              "      <td>0</td>\n",
              "      <td>1</td>\n",
              "      <td>0</td>\n",
              "      <td>0</td>\n",
              "      <td>0</td>\n",
              "      <td>0</td>\n",
              "      <td>2</td>\n",
              "      <td>b. more than 60</td>\n",
              "      <td>1</td>\n",
              "    </tr>\n",
              "    <tr>\n",
              "      <th>1</th>\n",
              "      <td>110</td>\n",
              "      <td>2022-03-16</td>\n",
              "      <td>2022-03-31</td>\n",
              "      <td>17569.40</td>\n",
              "      <td>2</td>\n",
              "      <td>0</td>\n",
              "      <td>20</td>\n",
              "      <td>1</td>\n",
              "      <td>2017</td>\n",
              "      <td>0</td>\n",
              "      <td>0</td>\n",
              "      <td>5</td>\n",
              "      <td>b. more than 60</td>\n",
              "      <td>1</td>\n",
              "    </tr>\n",
              "    <tr>\n",
              "      <th>2</th>\n",
              "      <td>151</td>\n",
              "      <td>2022-04-13</td>\n",
              "      <td>2022-04-30</td>\n",
              "      <td>62889.16</td>\n",
              "      <td>2</td>\n",
              "      <td>0</td>\n",
              "      <td>20</td>\n",
              "      <td>1</td>\n",
              "      <td>2017</td>\n",
              "      <td>0</td>\n",
              "      <td>0</td>\n",
              "      <td>5</td>\n",
              "      <td>b. more than 60</td>\n",
              "      <td>2</td>\n",
              "    </tr>\n",
              "  </tbody>\n",
              "</table>\n",
              "</div>\n",
              "      <button class=\"colab-df-convert\" onclick=\"convertToInteractive('df-49fb3d8d-dd26-404a-ba96-cc4e4f78d9e1')\"\n",
              "              title=\"Convert this dataframe to an interactive table.\"\n",
              "              style=\"display:none;\">\n",
              "        \n",
              "  <svg xmlns=\"http://www.w3.org/2000/svg\" height=\"24px\"viewBox=\"0 0 24 24\"\n",
              "       width=\"24px\">\n",
              "    <path d=\"M0 0h24v24H0V0z\" fill=\"none\"/>\n",
              "    <path d=\"M18.56 5.44l.94 2.06.94-2.06 2.06-.94-2.06-.94-.94-2.06-.94 2.06-2.06.94zm-11 1L8.5 8.5l.94-2.06 2.06-.94-2.06-.94L8.5 2.5l-.94 2.06-2.06.94zm10 10l.94 2.06.94-2.06 2.06-.94-2.06-.94-.94-2.06-.94 2.06-2.06.94z\"/><path d=\"M17.41 7.96l-1.37-1.37c-.4-.4-.92-.59-1.43-.59-.52 0-1.04.2-1.43.59L10.3 9.45l-7.72 7.72c-.78.78-.78 2.05 0 2.83L4 21.41c.39.39.9.59 1.41.59.51 0 1.02-.2 1.41-.59l7.78-7.78 2.81-2.81c.8-.78.8-2.07 0-2.86zM5.41 20L4 18.59l7.72-7.72 1.47 1.35L5.41 20z\"/>\n",
              "  </svg>\n",
              "      </button>\n",
              "      \n",
              "  <style>\n",
              "    .colab-df-container {\n",
              "      display:flex;\n",
              "      flex-wrap:wrap;\n",
              "      gap: 12px;\n",
              "    }\n",
              "\n",
              "    .colab-df-convert {\n",
              "      background-color: #E8F0FE;\n",
              "      border: none;\n",
              "      border-radius: 50%;\n",
              "      cursor: pointer;\n",
              "      display: none;\n",
              "      fill: #1967D2;\n",
              "      height: 32px;\n",
              "      padding: 0 0 0 0;\n",
              "      width: 32px;\n",
              "    }\n",
              "\n",
              "    .colab-df-convert:hover {\n",
              "      background-color: #E2EBFA;\n",
              "      box-shadow: 0px 1px 2px rgba(60, 64, 67, 0.3), 0px 1px 3px 1px rgba(60, 64, 67, 0.15);\n",
              "      fill: #174EA6;\n",
              "    }\n",
              "\n",
              "    [theme=dark] .colab-df-convert {\n",
              "      background-color: #3B4455;\n",
              "      fill: #D2E3FC;\n",
              "    }\n",
              "\n",
              "    [theme=dark] .colab-df-convert:hover {\n",
              "      background-color: #434B5C;\n",
              "      box-shadow: 0px 1px 3px 1px rgba(0, 0, 0, 0.15);\n",
              "      filter: drop-shadow(0px 1px 2px rgba(0, 0, 0, 0.3));\n",
              "      fill: #FFFFFF;\n",
              "    }\n",
              "  </style>\n",
              "\n",
              "      <script>\n",
              "        const buttonEl =\n",
              "          document.querySelector('#df-49fb3d8d-dd26-404a-ba96-cc4e4f78d9e1 button.colab-df-convert');\n",
              "        buttonEl.style.display =\n",
              "          google.colab.kernel.accessAllowed ? 'block' : 'none';\n",
              "\n",
              "        async function convertToInteractive(key) {\n",
              "          const element = document.querySelector('#df-49fb3d8d-dd26-404a-ba96-cc4e4f78d9e1');\n",
              "          const dataTable =\n",
              "            await google.colab.kernel.invokeFunction('convertToInteractive',\n",
              "                                                     [key], {});\n",
              "          if (!dataTable) return;\n",
              "\n",
              "          const docLinkHtml = 'Like what you see? Visit the ' +\n",
              "            '<a target=\"_blank\" href=https://colab.research.google.com/notebooks/data_table.ipynb>data table notebook</a>'\n",
              "            + ' to learn more about interactive tables.';\n",
              "          element.innerHTML = '';\n",
              "          dataTable['output_type'] = 'display_data';\n",
              "          await google.colab.output.renderOutput(dataTable, element);\n",
              "          const docLink = document.createElement('div');\n",
              "          docLink.innerHTML = docLinkHtml;\n",
              "          element.appendChild(docLink);\n",
              "        }\n",
              "      </script>\n",
              "    </div>\n",
              "  </div>\n",
              "  "
            ]
          },
          "metadata": {},
          "execution_count": 36
        }
      ],
      "source": [
        "df_receivable.head(3)"
      ]
    },
    {
      "cell_type": "code",
      "execution_count": 37,
      "metadata": {
        "colab": {
          "base_uri": "https://localhost:8080/",
          "height": 671
        },
        "id": "t_Z6xp2Jv1RR",
        "outputId": "44a9501f-fca4-44be-8745-2a268a8d3427"
      },
      "outputs": [
        {
          "output_type": "display_data",
          "data": {
            "text/plain": [
              "<Figure size 720x720 with 2 Axes>"
            ],
            "image/png": "[encoded data removed]"
          },
          "metadata": {}
        }
      ],
      "source": [
        "corremat = df_receivable.corr()\n",
        "plt.figure(figsize=(10,10))\n",
        "g= sns.heatmap(df_receivable.corr(),annot=True,cmap='viridis',linewidths=.5)"
      ]
    },
    {
      "cell_type": "code",
      "execution_count": 38,
      "metadata": {
        "colab": {
          "base_uri": "https://localhost:8080/",
          "height": 395
        },
        "id": "aDqN9uytv1RR",
        "outputId": "8122a239-ff14-44e4-f4a7-c05accff98c6"
      },
      "outputs": [
        {
          "output_type": "execute_result",
          "data": {
            "text/plain": [
              "                   НомерДокумента     Сумма  Контрагент  Просрочка     ОКВЭД  \\\n",
              "НомерДокумента           1.000000  0.159647   -0.098237  -0.503615 -0.193494   \n",
              "Сумма                    0.159647  1.000000    0.129393  -0.160876 -0.037845   \n",
              "Контрагент              -0.098237  0.129393    1.000000   0.134914 -0.365092   \n",
              "Просрочка               -0.503615 -0.160876    0.134914   1.000000  0.005664   \n",
              "ОКВЭД                   -0.193494 -0.037845   -0.365092   0.005664  1.000000   \n",
              "ГруппаОКВЭД              0.042211 -0.064967    0.555323   0.052500 -0.549369   \n",
              "ГодРегистрацииК/а        0.040243  0.030171   -0.037258  -0.038360  0.268385   \n",
              "ГруппаКомпаний           0.145734 -0.019355   -0.124281  -0.073554 -0.066543   \n",
              "countlate               -0.103286 -0.025545   -0.235896   0.193055 -0.019302   \n",
              "repeatCust              -0.122495 -0.071529   -0.289832   0.068818 -0.103423   \n",
              "InvoiceQuarter           0.221247  0.012267    0.118275   0.169522 -0.086390   \n",
              "\n",
              "                   ГруппаОКВЭД  ГодРегистрацииК/а  ГруппаКомпаний  countlate  \\\n",
              "НомерДокумента        0.042211           0.040243        0.145734  -0.103286   \n",
              "Сумма                -0.064967           0.030171       -0.019355  -0.025545   \n",
              "Контрагент            0.555323          -0.037258       -0.124281  -0.235896   \n",
              "Просрочка             0.052500          -0.038360       -0.073554   0.193055   \n",
              "ОКВЭД                -0.549369           0.268385       -0.066543  -0.019302   \n",
              "ГруппаОКВЭД           1.000000           0.220809        0.024577  -0.001066   \n",
              "ГодРегистрацииК/а     0.220809           1.000000        0.097532   0.086250   \n",
              "ГруппаКомпаний        0.024577           0.097532        1.000000   0.102192   \n",
              "countlate            -0.001066           0.086250        0.102192   1.000000   \n",
              "repeatCust            0.006587           0.118822        0.450154   0.616513   \n",
              "InvoiceQuarter        0.066158           0.008161        0.017067   0.149995   \n",
              "\n",
              "                   repeatCust  InvoiceQuarter  \n",
              "НомерДокумента      -0.122495        0.221247  \n",
              "Сумма               -0.071529        0.012267  \n",
              "Контрагент          -0.289832        0.118275  \n",
              "Просрочка            0.068818        0.169522  \n",
              "ОКВЭД               -0.103423       -0.086390  \n",
              "ГруппаОКВЭД          0.006587        0.066158  \n",
              "ГодРегистрацииК/а    0.118822        0.008161  \n",
              "ГруппаКомпаний       0.450154        0.017067  \n",
              "countlate            0.616513        0.149995  \n",
              "repeatCust           1.000000       -0.045854  \n",
              "InvoiceQuarter      -0.045854        1.000000  "
            ],
            "text/html": [
              "\n",
              "  <div id=\"df-1a132539-eb77-4ae7-abc3-3bb2109d6dae\">\n",
              "    <div class=\"colab-df-container\">\n",
              "      <div>\n",
              "<style scoped>\n",
              "    .dataframe tbody tr th:only-of-type {\n",
              "        vertical-align: middle;\n",
              "    }\n",
              "\n",
              "    .dataframe tbody tr th {\n",
              "        vertical-align: top;\n",
              "    }\n",
              "\n",
              "    .dataframe thead th {\n",
              "        text-align: right;\n",
              "    }\n",
              "</style>\n",
              "<table border=\"1\" class=\"dataframe\">\n",
              "  <thead>\n",
              "    <tr style=\"text-align: right;\">\n",
              "      <th></th>\n",
              "      <th>НомерДокумента</th>\n",
              "      <th>Сумма</th>\n",
              "      <th>Контрагент</th>\n",
              "      <th>Просрочка</th>\n",
              "      <th>ОКВЭД</th>\n",
              "      <th>ГруппаОКВЭД</th>\n",
              "      <th>ГодРегистрацииК/а</th>\n",
              "      <th>ГруппаКомпаний</th>\n",
              "      <th>countlate</th>\n",
              "      <th>repeatCust</th>\n",
              "      <th>InvoiceQuarter</th>\n",
              "    </tr>\n",
              "  </thead>\n",
              "  <tbody>\n",
              "    <tr>\n",
              "      <th>НомерДокумента</th>\n",
              "      <td>1.000000</td>\n",
              "      <td>0.159647</td>\n",
              "      <td>-0.098237</td>\n",
              "      <td>-0.503615</td>\n",
              "      <td>-0.193494</td>\n",
              "      <td>0.042211</td>\n",
              "      <td>0.040243</td>\n",
              "      <td>0.145734</td>\n",
              "      <td>-0.103286</td>\n",
              "      <td>-0.122495</td>\n",
              "      <td>0.221247</td>\n",
              "    </tr>\n",
              "    <tr>\n",
              "      <th>Сумма</th>\n",
              "      <td>0.159647</td>\n",
              "      <td>1.000000</td>\n",
              "      <td>0.129393</td>\n",
              "      <td>-0.160876</td>\n",
              "      <td>-0.037845</td>\n",
              "      <td>-0.064967</td>\n",
              "      <td>0.030171</td>\n",
              "      <td>-0.019355</td>\n",
              "      <td>-0.025545</td>\n",
              "      <td>-0.071529</td>\n",
              "      <td>0.012267</td>\n",
              "    </tr>\n",
              "    <tr>\n",
              "      <th>Контрагент</th>\n",
              "      <td>-0.098237</td>\n",
              "      <td>0.129393</td>\n",
              "      <td>1.000000</td>\n",
              "      <td>0.134914</td>\n",
              "      <td>-0.365092</td>\n",
              "      <td>0.555323</td>\n",
              "      <td>-0.037258</td>\n",
              "      <td>-0.124281</td>\n",
              "      <td>-0.235896</td>\n",
              "      <td>-0.289832</td>\n",
              "      <td>0.118275</td>\n",
              "    </tr>\n",
              "    <tr>\n",
              "      <th>Просрочка</th>\n",
              "      <td>-0.503615</td>\n",
              "      <td>-0.160876</td>\n",
              "      <td>0.134914</td>\n",
              "      <td>1.000000</td>\n",
              "      <td>0.005664</td>\n",
              "      <td>0.052500</td>\n",
              "      <td>-0.038360</td>\n",
              "      <td>-0.073554</td>\n",
              "      <td>0.193055</td>\n",
              "      <td>0.068818</td>\n",
              "      <td>0.169522</td>\n",
              "    </tr>\n",
              "    <tr>\n",
              "      <th>ОКВЭД</th>\n",
              "      <td>-0.193494</td>\n",
              "      <td>-0.037845</td>\n",
              "      <td>-0.365092</td>\n",
              "      <td>0.005664</td>\n",
              "      <td>1.000000</td>\n",
              "      <td>-0.549369</td>\n",
              "      <td>0.268385</td>\n",
              "      <td>-0.066543</td>\n",
              "      <td>-0.019302</td>\n",
              "      <td>-0.103423</td>\n",
              "      <td>-0.086390</td>\n",
              "    </tr>\n",
              "    <tr>\n",
              "      <th>ГруппаОКВЭД</th>\n",
              "      <td>0.042211</td>\n",
              "      <td>-0.064967</td>\n",
              "      <td>0.555323</td>\n",
              "      <td>0.052500</td>\n",
              "      <td>-0.549369</td>\n",
              "      <td>1.000000</td>\n",
              "      <td>0.220809</td>\n",
              "      <td>0.024577</td>\n",
              "      <td>-0.001066</td>\n",
              "      <td>0.006587</td>\n",
              "      <td>0.066158</td>\n",
              "    </tr>\n",
              "    <tr>\n",
              "      <th>ГодРегистрацииК/а</th>\n",
              "      <td>0.040243</td>\n",
              "      <td>0.030171</td>\n",
              "      <td>-0.037258</td>\n",
              "      <td>-0.038360</td>\n",
              "      <td>0.268385</td>\n",
              "      <td>0.220809</td>\n",
              "      <td>1.000000</td>\n",
              "      <td>0.097532</td>\n",
              "      <td>0.086250</td>\n",
              "      <td>0.118822</td>\n",
              "      <td>0.008161</td>\n",
              "    </tr>\n",
              "    <tr>\n",
              "      <th>ГруппаКомпаний</th>\n",
              "      <td>0.145734</td>\n",
              "      <td>-0.019355</td>\n",
              "      <td>-0.124281</td>\n",
              "      <td>-0.073554</td>\n",
              "      <td>-0.066543</td>\n",
              "      <td>0.024577</td>\n",
              "      <td>0.097532</td>\n",
              "      <td>1.000000</td>\n",
              "      <td>0.102192</td>\n",
              "      <td>0.450154</td>\n",
              "      <td>0.017067</td>\n",
              "    </tr>\n",
              "    <tr>\n",
              "      <th>countlate</th>\n",
              "      <td>-0.103286</td>\n",
              "      <td>-0.025545</td>\n",
              "      <td>-0.235896</td>\n",
              "      <td>0.193055</td>\n",
              "      <td>-0.019302</td>\n",
              "      <td>-0.001066</td>\n",
              "      <td>0.086250</td>\n",
              "      <td>0.102192</td>\n",
              "      <td>1.000000</td>\n",
              "      <td>0.616513</td>\n",
              "      <td>0.149995</td>\n",
              "    </tr>\n",
              "    <tr>\n",
              "      <th>repeatCust</th>\n",
              "      <td>-0.122495</td>\n",
              "      <td>-0.071529</td>\n",
              "      <td>-0.289832</td>\n",
              "      <td>0.068818</td>\n",
              "      <td>-0.103423</td>\n",
              "      <td>0.006587</td>\n",
              "      <td>0.118822</td>\n",
              "      <td>0.450154</td>\n",
              "      <td>0.616513</td>\n",
              "      <td>1.000000</td>\n",
              "      <td>-0.045854</td>\n",
              "    </tr>\n",
              "    <tr>\n",
              "      <th>InvoiceQuarter</th>\n",
              "      <td>0.221247</td>\n",
              "      <td>0.012267</td>\n",
              "      <td>0.118275</td>\n",
              "      <td>0.169522</td>\n",
              "      <td>-0.086390</td>\n",
              "      <td>0.066158</td>\n",
              "      <td>0.008161</td>\n",
              "      <td>0.017067</td>\n",
              "      <td>0.149995</td>\n",
              "      <td>-0.045854</td>\n",
              "      <td>1.000000</td>\n",
              "    </tr>\n",
              "  </tbody>\n",
              "</table>\n",
              "</div>\n",
              "      <button class=\"colab-df-convert\" onclick=\"convertToInteractive('df-1a132539-eb77-4ae7-abc3-3bb2109d6dae')\"\n",
              "              title=\"Convert this dataframe to an interactive table.\"\n",
              "              style=\"display:none;\">\n",
              "        \n",
              "  <svg xmlns=\"http://www.w3.org/2000/svg\" height=\"24px\"viewBox=\"0 0 24 24\"\n",
              "       width=\"24px\">\n",
              "    <path d=\"M0 0h24v24H0V0z\" fill=\"none\"/>\n",
              "    <path d=\"M18.56 5.44l.94 2.06.94-2.06 2.06-.94-2.06-.94-.94-2.06-.94 2.06-2.06.94zm-11 1L8.5 8.5l.94-2.06 2.06-.94-2.06-.94L8.5 2.5l-.94 2.06-2.06.94zm10 10l.94 2.06.94-2.06 2.06-.94-2.06-.94-.94-2.06-.94 2.06-2.06.94z\"/><path d=\"M17.41 7.96l-1.37-1.37c-.4-.4-.92-.59-1.43-.59-.52 0-1.04.2-1.43.59L10.3 9.45l-7.72 7.72c-.78.78-.78 2.05 0 2.83L4 21.41c.39.39.9.59 1.41.59.51 0 1.02-.2 1.41-.59l7.78-7.78 2.81-2.81c.8-.78.8-2.07 0-2.86zM5.41 20L4 18.59l7.72-7.72 1.47 1.35L5.41 20z\"/>\n",
              "  </svg>\n",
              "      </button>\n",
              "      \n",
              "  <style>\n",
              "    .colab-df-container {\n",
              "      display:flex;\n",
              "      flex-wrap:wrap;\n",
              "      gap: 12px;\n",
              "    }\n",
              "\n",
              "    .colab-df-convert {\n",
              "      background-color: #E8F0FE;\n",
              "      border: none;\n",
              "      border-radius: 50%;\n",
              "      cursor: pointer;\n",
              "      display: none;\n",
              "      fill: #1967D2;\n",
              "      height: 32px;\n",
              "      padding: 0 0 0 0;\n",
              "      width: 32px;\n",
              "    }\n",
              "\n",
              "    .colab-df-convert:hover {\n",
              "      background-color: #E2EBFA;\n",
              "      box-shadow: 0px 1px 2px rgba(60, 64, 67, 0.3), 0px 1px 3px 1px rgba(60, 64, 67, 0.15);\n",
              "      fill: #174EA6;\n",
              "    }\n",
              "\n",
              "    [theme=dark] .colab-df-convert {\n",
              "      background-color: #3B4455;\n",
              "      fill: #D2E3FC;\n",
              "    }\n",
              "\n",
              "    [theme=dark] .colab-df-convert:hover {\n",
              "      background-color: #434B5C;\n",
              "      box-shadow: 0px 1px 3px 1px rgba(0, 0, 0, 0.15);\n",
              "      filter: drop-shadow(0px 1px 2px rgba(0, 0, 0, 0.3));\n",
              "      fill: #FFFFFF;\n",
              "    }\n",
              "  </style>\n",
              "\n",
              "      <script>\n",
              "        const buttonEl =\n",
              "          document.querySelector('#df-1a132539-eb77-4ae7-abc3-3bb2109d6dae button.colab-df-convert');\n",
              "        buttonEl.style.display =\n",
              "          google.colab.kernel.accessAllowed ? 'block' : 'none';\n",
              "\n",
              "        async function convertToInteractive(key) {\n",
              "          const element = document.querySelector('#df-1a132539-eb77-4ae7-abc3-3bb2109d6dae');\n",
              "          const dataTable =\n",
              "            await google.colab.kernel.invokeFunction('convertToInteractive',\n",
              "                                                     [key], {});\n",
              "          if (!dataTable) return;\n",
              "\n",
              "          const docLinkHtml = 'Like what you see? Visit the ' +\n",
              "            '<a target=\"_blank\" href=https://colab.research.google.com/notebooks/data_table.ipynb>data table notebook</a>'\n",
              "            + ' to learn more about interactive tables.';\n",
              "          element.innerHTML = '';\n",
              "          dataTable['output_type'] = 'display_data';\n",
              "          await google.colab.output.renderOutput(dataTable, element);\n",
              "          const docLink = document.createElement('div');\n",
              "          docLink.innerHTML = docLinkHtml;\n",
              "          element.appendChild(docLink);\n",
              "        }\n",
              "      </script>\n",
              "    </div>\n",
              "  </div>\n",
              "  "
            ]
          },
          "metadata": {},
          "execution_count": 38
        }
      ],
      "source": [
        "corremat"
      ]
    },
    {
      "cell_type": "code",
      "execution_count": 39,
      "metadata": {
        "colab": {
          "base_uri": "https://localhost:8080/"
        },
        "id": "REefTbFGv1RS",
        "outputId": "4915b9f5-e1e3-41ff-caaf-e855ed2222df"
      },
      "outputs": [
        {
          "output_type": "execute_result",
          "data": {
            "text/plain": [
              "Index(['НомерДокумента', 'Сумма', 'Контрагент', 'Просрочка', 'ОКВЭД',\n",
              "       'ГруппаОКВЭД', 'ГодРегистрацииК/а', 'ГруппаКомпаний', 'countlate',\n",
              "       'repeatCust', 'InvoiceQuarter'],\n",
              "      dtype='object')"
            ]
          },
          "metadata": {},
          "execution_count": 39
        }
      ],
      "source": [
        "corremat.columns"
      ]
    },
    {
      "cell_type": "code",
      "execution_count": 40,
      "metadata": {
        "id": "T1Lfsqxsv1RS"
      },
      "outputs": [],
      "source": [
        "cat_feats = ['Сумма_bin']\n",
        "final_data = pd.get_dummies(df_receivable,columns=cat_feats,drop_first=True)"
      ]
    },
    {
      "cell_type": "code",
      "execution_count": 41,
      "metadata": {
        "colab": {
          "base_uri": "https://localhost:8080/",
          "height": 225
        },
        "id": "1MjAGlucv1RS",
        "outputId": "18da5547-647c-4c3d-86d7-f2a22878bf8a"
      },
      "outputs": [
        {
          "output_type": "execute_result",
          "data": {
            "text/plain": [
              "   НомерДокумента ФактическаяДатаПлатежа ДатаПлатежаПоДоговору     Сумма  \\\n",
              "0              90             2022-03-11            2022-03-31   5175.84   \n",
              "1             110             2022-03-16            2022-03-31  17569.40   \n",
              "2             151             2022-04-13            2022-04-30  62889.16   \n",
              "\n",
              "   Контрагент  Просрочка  ОКВЭД  ГруппаОКВЭД  ГодРегистрацииК/а  \\\n",
              "0           1          0      1            0                  0   \n",
              "1           2          0     20            1               2017   \n",
              "2           2          0     20            1               2017   \n",
              "\n",
              "   ГруппаКомпаний  countlate  repeatCust  InvoiceQuarter  \\\n",
              "0               0          0           2               1   \n",
              "1               0          0           5               1   \n",
              "2               0          0           5               2   \n",
              "\n",
              "   Сумма_bin_b. more than 60  \n",
              "0                          1  \n",
              "1                          1  \n",
              "2                          1  "
            ],
            "text/html": [
              "\n",
              "  <div id=\"df-e8cf92c2-8660-4cb8-98ca-02234b09b40b\">\n",
              "    <div class=\"colab-df-container\">\n",
              "      <div>\n",
              "<style scoped>\n",
              "    .dataframe tbody tr th:only-of-type {\n",
              "        vertical-align: middle;\n",
              "    }\n",
              "\n",
              "    .dataframe tbody tr th {\n",
              "        vertical-align: top;\n",
              "    }\n",
              "\n",
              "    .dataframe thead th {\n",
              "        text-align: right;\n",
              "    }\n",
              "</style>\n",
              "<table border=\"1\" class=\"dataframe\">\n",
              "  <thead>\n",
              "    <tr style=\"text-align: right;\">\n",
              "      <th></th>\n",
              "      <th>НомерДокумента</th>\n",
              "      <th>ФактическаяДатаПлатежа</th>\n",
              "      <th>ДатаПлатежаПоДоговору</th>\n",
              "      <th>Сумма</th>\n",
              "      <th>Контрагент</th>\n",
              "      <th>Просрочка</th>\n",
              "      <th>ОКВЭД</th>\n",
              "      <th>ГруппаОКВЭД</th>\n",
              "      <th>ГодРегистрацииК/а</th>\n",
              "      <th>ГруппаКомпаний</th>\n",
              "      <th>countlate</th>\n",
              "      <th>repeatCust</th>\n",
              "      <th>InvoiceQuarter</th>\n",
              "      <th>Сумма_bin_b. more than 60</th>\n",
              "    </tr>\n",
              "  </thead>\n",
              "  <tbody>\n",
              "    <tr>\n",
              "      <th>0</th>\n",
              "      <td>90</td>\n",
              "      <td>2022-03-11</td>\n",
              "      <td>2022-03-31</td>\n",
              "      <td>5175.84</td>\n",
              "      <td>1</td>\n",
              "      <td>0</td>\n",
              "      <td>1</td>\n",
              "      <td>0</td>\n",
              "      <td>0</td>\n",
              "      <td>0</td>\n",
              "      <td>0</td>\n",
              "      <td>2</td>\n",
              "      <td>1</td>\n",
              "      <td>1</td>\n",
              "    </tr>\n",
              "    <tr>\n",
              "      <th>1</th>\n",
              "      <td>110</td>\n",
              "      <td>2022-03-16</td>\n",
              "      <td>2022-03-31</td>\n",
              "      <td>17569.40</td>\n",
              "      <td>2</td>\n",
              "      <td>0</td>\n",
              "      <td>20</td>\n",
              "      <td>1</td>\n",
              "      <td>2017</td>\n",
              "      <td>0</td>\n",
              "      <td>0</td>\n",
              "      <td>5</td>\n",
              "      <td>1</td>\n",
              "      <td>1</td>\n",
              "    </tr>\n",
              "    <tr>\n",
              "      <th>2</th>\n",
              "      <td>151</td>\n",
              "      <td>2022-04-13</td>\n",
              "      <td>2022-04-30</td>\n",
              "      <td>62889.16</td>\n",
              "      <td>2</td>\n",
              "      <td>0</td>\n",
              "      <td>20</td>\n",
              "      <td>1</td>\n",
              "      <td>2017</td>\n",
              "      <td>0</td>\n",
              "      <td>0</td>\n",
              "      <td>5</td>\n",
              "      <td>2</td>\n",
              "      <td>1</td>\n",
              "    </tr>\n",
              "  </tbody>\n",
              "</table>\n",
              "</div>\n",
              "      <button class=\"colab-df-convert\" onclick=\"convertToInteractive('df-e8cf92c2-8660-4cb8-98ca-02234b09b40b')\"\n",
              "              title=\"Convert this dataframe to an interactive table.\"\n",
              "              style=\"display:none;\">\n",
              "        \n",
              "  <svg xmlns=\"http://www.w3.org/2000/svg\" height=\"24px\"viewBox=\"0 0 24 24\"\n",
              "       width=\"24px\">\n",
              "    <path d=\"M0 0h24v24H0V0z\" fill=\"none\"/>\n",
              "    <path d=\"M18.56 5.44l.94 2.06.94-2.06 2.06-.94-2.06-.94-.94-2.06-.94 2.06-2.06.94zm-11 1L8.5 8.5l.94-2.06 2.06-.94-2.06-.94L8.5 2.5l-.94 2.06-2.06.94zm10 10l.94 2.06.94-2.06 2.06-.94-2.06-.94-.94-2.06-.94 2.06-2.06.94z\"/><path d=\"M17.41 7.96l-1.37-1.37c-.4-.4-.92-.59-1.43-.59-.52 0-1.04.2-1.43.59L10.3 9.45l-7.72 7.72c-.78.78-.78 2.05 0 2.83L4 21.41c.39.39.9.59 1.41.59.51 0 1.02-.2 1.41-.59l7.78-7.78 2.81-2.81c.8-.78.8-2.07 0-2.86zM5.41 20L4 18.59l7.72-7.72 1.47 1.35L5.41 20z\"/>\n",
              "  </svg>\n",
              "      </button>\n",
              "      \n",
              "  <style>\n",
              "    .colab-df-container {\n",
              "      display:flex;\n",
              "      flex-wrap:wrap;\n",
              "      gap: 12px;\n",
              "    }\n",
              "\n",
              "    .colab-df-convert {\n",
              "      background-color: #E8F0FE;\n",
              "      border: none;\n",
              "      border-radius: 50%;\n",
              "      cursor: pointer;\n",
              "      display: none;\n",
              "      fill: #1967D2;\n",
              "      height: 32px;\n",
              "      padding: 0 0 0 0;\n",
              "      width: 32px;\n",
              "    }\n",
              "\n",
              "    .colab-df-convert:hover {\n",
              "      background-color: #E2EBFA;\n",
              "      box-shadow: 0px 1px 2px rgba(60, 64, 67, 0.3), 0px 1px 3px 1px rgba(60, 64, 67, 0.15);\n",
              "      fill: #174EA6;\n",
              "    }\n",
              "\n",
              "    [theme=dark] .colab-df-convert {\n",
              "      background-color: #3B4455;\n",
              "      fill: #D2E3FC;\n",
              "    }\n",
              "\n",
              "    [theme=dark] .colab-df-convert:hover {\n",
              "      background-color: #434B5C;\n",
              "      box-shadow: 0px 1px 3px 1px rgba(0, 0, 0, 0.15);\n",
              "      filter: drop-shadow(0px 1px 2px rgba(0, 0, 0, 0.3));\n",
              "      fill: #FFFFFF;\n",
              "    }\n",
              "  </style>\n",
              "\n",
              "      <script>\n",
              "        const buttonEl =\n",
              "          document.querySelector('#df-e8cf92c2-8660-4cb8-98ca-02234b09b40b button.colab-df-convert');\n",
              "        buttonEl.style.display =\n",
              "          google.colab.kernel.accessAllowed ? 'block' : 'none';\n",
              "\n",
              "        async function convertToInteractive(key) {\n",
              "          const element = document.querySelector('#df-e8cf92c2-8660-4cb8-98ca-02234b09b40b');\n",
              "          const dataTable =\n",
              "            await google.colab.kernel.invokeFunction('convertToInteractive',\n",
              "                                                     [key], {});\n",
              "          if (!dataTable) return;\n",
              "\n",
              "          const docLinkHtml = 'Like what you see? Visit the ' +\n",
              "            '<a target=\"_blank\" href=https://colab.research.google.com/notebooks/data_table.ipynb>data table notebook</a>'\n",
              "            + ' to learn more about interactive tables.';\n",
              "          element.innerHTML = '';\n",
              "          dataTable['output_type'] = 'display_data';\n",
              "          await google.colab.output.renderOutput(dataTable, element);\n",
              "          const docLink = document.createElement('div');\n",
              "          docLink.innerHTML = docLinkHtml;\n",
              "          element.appendChild(docLink);\n",
              "        }\n",
              "      </script>\n",
              "    </div>\n",
              "  </div>\n",
              "  "
            ]
          },
          "metadata": {},
          "execution_count": 41
        }
      ],
      "source": [
        "final_data.head(3)"
      ]
    },
    {
      "cell_type": "code",
      "execution_count": 42,
      "metadata": {
        "id": "fb3twBupAvsR"
      },
      "outputs": [],
      "source": [
        "from sklearn.preprocessing import StandardScaler, MinMaxScaler\n",
        "import numpy as np\n"
      ]
    },
    {
      "cell_type": "code",
      "execution_count": 43,
      "metadata": {
        "id": "I5vGh-WLv1RS"
      },
      "outputs": [],
      "source": [
        "features=['ГруппаКомпаний', 'Контрагент', 'Сумма', \"InvoiceQuarter\",\n",
        "       'ГруппаОКВЭД', 'ОКВЭД','repeatCust', 'countlate']"
      ]
    },
    {
      "cell_type": "code",
      "execution_count": 44,
      "metadata": {
        "colab": {
          "base_uri": "https://localhost:8080/"
        },
        "id": "XDSH5Z3ev1RT",
        "outputId": "4e295ac2-e0ac-4f67-a78d-f5e28704df16"
      },
      "outputs": [
        {
          "output_type": "execute_result",
          "data": {
            "text/plain": [
              "['ГруппаКомпаний',\n",
              " 'Контрагент',\n",
              " 'Сумма',\n",
              " 'InvoiceQuarter',\n",
              " 'ГруппаОКВЭД',\n",
              " 'ОКВЭД',\n",
              " 'repeatCust',\n",
              " 'countlate']"
            ]
          },
          "metadata": {},
          "execution_count": 44
        }
      ],
      "source": [
        "features"
      ]
    },
    {
      "cell_type": "code",
      "execution_count": 45,
      "metadata": {
        "id": "M9lSl2a-v1RT"
      },
      "outputs": [],
      "source": [
        "X = final_data[features]\n",
        "y = final_data['Просрочка']"
      ]
    },
    {
      "cell_type": "code",
      "execution_count": 46,
      "metadata": {
        "colab": {
          "base_uri": "https://localhost:8080/"
        },
        "id": "1TKAndDQv1RT",
        "outputId": "6db852f8-3e85-4662-84de-7d11bf8f25db"
      },
      "outputs": [
        {
          "output_type": "execute_result",
          "data": {
            "text/plain": [
              "0    0\n",
              "1    0\n",
              "2    0\n",
              "3    0\n",
              "4    0\n",
              "Name: Просрочка, dtype: int64"
            ]
          },
          "metadata": {},
          "execution_count": 46
        }
      ],
      "source": [
        "y.head(5)"
      ]
    },
    {
      "cell_type": "code",
      "execution_count": 47,
      "metadata": {
        "id": "2NpP9fCRv1RT"
      },
      "outputs": [],
      "source": [
        "X_train,X_test,y_train,y_test = train_test_split(X,y,random_state=0)"
      ]
    },
    {
      "cell_type": "code",
      "execution_count": 48,
      "metadata": {
        "id": "XjIIbGJdCR4R"
      },
      "outputs": [],
      "source": [
        "scaler = StandardScaler()"
      ]
    },
    {
      "cell_type": "code",
      "execution_count": 49,
      "metadata": {
        "id": "XYYNTHmoCRvp"
      },
      "outputs": [],
      "source": [
        "x_norm = pd.DataFrame(scaler.fit_transform(X_train), columns=X_train.columns)"
      ]
    },
    {
      "cell_type": "code",
      "execution_count": 50,
      "metadata": {
        "colab": {
          "base_uri": "https://localhost:8080/",
          "height": 206
        },
        "id": "G9rJzMeNDNi-",
        "outputId": "82dc8338-fd16-459b-a015-974f96912dff"
      },
      "outputs": [
        {
          "output_type": "execute_result",
          "data": {
            "text/plain": [
              "   ГруппаКомпаний  Контрагент     Сумма  InvoiceQuarter  ГруппаОКВЭД  \\\n",
              "0       -0.701381   -1.175016 -0.257444        0.566947    -0.831024   \n",
              "1       -0.701381    1.177713 -0.245215       -1.763834     0.004516   \n",
              "2       -0.701381   -0.462067 -0.256183        0.566947    -0.831024   \n",
              "3       -0.701381    1.106418 -0.254210        0.566947     1.675597   \n",
              "4       -0.701381    0.036996 -0.227626        0.566947    -0.831024   \n",
              "\n",
              "      ОКВЭД  repeatCust  countlate  \n",
              "0  0.925279   -0.982932  -0.769260  \n",
              "1 -0.886986   -0.982932  -0.769260  \n",
              "2  0.925279   -0.779187  -0.769260  \n",
              "3  0.101522   -0.779187  -0.769260  \n",
              "4  0.925279   -0.371697   0.090638  "
            ],
            "text/html": [
              "\n",
              "  <div id=\"df-2222f631-9800-4575-a5e6-66aa989de2bc\">\n",
              "    <div class=\"colab-df-container\">\n",
              "      <div>\n",
              "<style scoped>\n",
              "    .dataframe tbody tr th:only-of-type {\n",
              "        vertical-align: middle;\n",
              "    }\n",
              "\n",
              "    .dataframe tbody tr th {\n",
              "        vertical-align: top;\n",
              "    }\n",
              "\n",
              "    .dataframe thead th {\n",
              "        text-align: right;\n",
              "    }\n",
              "</style>\n",
              "<table border=\"1\" class=\"dataframe\">\n",
              "  <thead>\n",
              "    <tr style=\"text-align: right;\">\n",
              "      <th></th>\n",
              "      <th>ГруппаКомпаний</th>\n",
              "      <th>Контрагент</th>\n",
              "      <th>Сумма</th>\n",
              "      <th>InvoiceQuarter</th>\n",
              "      <th>ГруппаОКВЭД</th>\n",
              "      <th>ОКВЭД</th>\n",
              "      <th>repeatCust</th>\n",
              "      <th>countlate</th>\n",
              "    </tr>\n",
              "  </thead>\n",
              "  <tbody>\n",
              "    <tr>\n",
              "      <th>0</th>\n",
              "      <td>-0.701381</td>\n",
              "      <td>-1.175016</td>\n",
              "      <td>-0.257444</td>\n",
              "      <td>0.566947</td>\n",
              "      <td>-0.831024</td>\n",
              "      <td>0.925279</td>\n",
              "      <td>-0.982932</td>\n",
              "      <td>-0.769260</td>\n",
              "    </tr>\n",
              "    <tr>\n",
              "      <th>1</th>\n",
              "      <td>-0.701381</td>\n",
              "      <td>1.177713</td>\n",
              "      <td>-0.245215</td>\n",
              "      <td>-1.763834</td>\n",
              "      <td>0.004516</td>\n",
              "      <td>-0.886986</td>\n",
              "      <td>-0.982932</td>\n",
              "      <td>-0.769260</td>\n",
              "    </tr>\n",
              "    <tr>\n",
              "      <th>2</th>\n",
              "      <td>-0.701381</td>\n",
              "      <td>-0.462067</td>\n",
              "      <td>-0.256183</td>\n",
              "      <td>0.566947</td>\n",
              "      <td>-0.831024</td>\n",
              "      <td>0.925279</td>\n",
              "      <td>-0.779187</td>\n",
              "      <td>-0.769260</td>\n",
              "    </tr>\n",
              "    <tr>\n",
              "      <th>3</th>\n",
              "      <td>-0.701381</td>\n",
              "      <td>1.106418</td>\n",
              "      <td>-0.254210</td>\n",
              "      <td>0.566947</td>\n",
              "      <td>1.675597</td>\n",
              "      <td>0.101522</td>\n",
              "      <td>-0.779187</td>\n",
              "      <td>-0.769260</td>\n",
              "    </tr>\n",
              "    <tr>\n",
              "      <th>4</th>\n",
              "      <td>-0.701381</td>\n",
              "      <td>0.036996</td>\n",
              "      <td>-0.227626</td>\n",
              "      <td>0.566947</td>\n",
              "      <td>-0.831024</td>\n",
              "      <td>0.925279</td>\n",
              "      <td>-0.371697</td>\n",
              "      <td>0.090638</td>\n",
              "    </tr>\n",
              "  </tbody>\n",
              "</table>\n",
              "</div>\n",
              "      <button class=\"colab-df-convert\" onclick=\"convertToInteractive('df-2222f631-9800-4575-a5e6-66aa989de2bc')\"\n",
              "              title=\"Convert this dataframe to an interactive table.\"\n",
              "              style=\"display:none;\">\n",
              "        \n",
              "  <svg xmlns=\"http://www.w3.org/2000/svg\" height=\"24px\"viewBox=\"0 0 24 24\"\n",
              "       width=\"24px\">\n",
              "    <path d=\"M0 0h24v24H0V0z\" fill=\"none\"/>\n",
              "    <path d=\"M18.56 5.44l.94 2.06.94-2.06 2.06-.94-2.06-.94-.94-2.06-.94 2.06-2.06.94zm-11 1L8.5 8.5l.94-2.06 2.06-.94-2.06-.94L8.5 2.5l-.94 2.06-2.06.94zm10 10l.94 2.06.94-2.06 2.06-.94-2.06-.94-.94-2.06-.94 2.06-2.06.94z\"/><path d=\"M17.41 7.96l-1.37-1.37c-.4-.4-.92-.59-1.43-.59-.52 0-1.04.2-1.43.59L10.3 9.45l-7.72 7.72c-.78.78-.78 2.05 0 2.83L4 21.41c.39.39.9.59 1.41.59.51 0 1.02-.2 1.41-.59l7.78-7.78 2.81-2.81c.8-.78.8-2.07 0-2.86zM5.41 20L4 18.59l7.72-7.72 1.47 1.35L5.41 20z\"/>\n",
              "  </svg>\n",
              "      </button>\n",
              "      \n",
              "  <style>\n",
              "    .colab-df-container {\n",
              "      display:flex;\n",
              "      flex-wrap:wrap;\n",
              "      gap: 12px;\n",
              "    }\n",
              "\n",
              "    .colab-df-convert {\n",
              "      background-color: #E8F0FE;\n",
              "      border: none;\n",
              "      border-radius: 50%;\n",
              "      cursor: pointer;\n",
              "      display: none;\n",
              "      fill: #1967D2;\n",
              "      height: 32px;\n",
              "      padding: 0 0 0 0;\n",
              "      width: 32px;\n",
              "    }\n",
              "\n",
              "    .colab-df-convert:hover {\n",
              "      background-color: #E2EBFA;\n",
              "      box-shadow: 0px 1px 2px rgba(60, 64, 67, 0.3), 0px 1px 3px 1px rgba(60, 64, 67, 0.15);\n",
              "      fill: #174EA6;\n",
              "    }\n",
              "\n",
              "    [theme=dark] .colab-df-convert {\n",
              "      background-color: #3B4455;\n",
              "      fill: #D2E3FC;\n",
              "    }\n",
              "\n",
              "    [theme=dark] .colab-df-convert:hover {\n",
              "      background-color: #434B5C;\n",
              "      box-shadow: 0px 1px 3px 1px rgba(0, 0, 0, 0.15);\n",
              "      filter: drop-shadow(0px 1px 2px rgba(0, 0, 0, 0.3));\n",
              "      fill: #FFFFFF;\n",
              "    }\n",
              "  </style>\n",
              "\n",
              "      <script>\n",
              "        const buttonEl =\n",
              "          document.querySelector('#df-2222f631-9800-4575-a5e6-66aa989de2bc button.colab-df-convert');\n",
              "        buttonEl.style.display =\n",
              "          google.colab.kernel.accessAllowed ? 'block' : 'none';\n",
              "\n",
              "        async function convertToInteractive(key) {\n",
              "          const element = document.querySelector('#df-2222f631-9800-4575-a5e6-66aa989de2bc');\n",
              "          const dataTable =\n",
              "            await google.colab.kernel.invokeFunction('convertToInteractive',\n",
              "                                                     [key], {});\n",
              "          if (!dataTable) return;\n",
              "\n",
              "          const docLinkHtml = 'Like what you see? Visit the ' +\n",
              "            '<a target=\"_blank\" href=https://colab.research.google.com/notebooks/data_table.ipynb>data table notebook</a>'\n",
              "            + ' to learn more about interactive tables.';\n",
              "          element.innerHTML = '';\n",
              "          dataTable['output_type'] = 'display_data';\n",
              "          await google.colab.output.renderOutput(dataTable, element);\n",
              "          const docLink = document.createElement('div');\n",
              "          docLink.innerHTML = docLinkHtml;\n",
              "          element.appendChild(docLink);\n",
              "        }\n",
              "      </script>\n",
              "    </div>\n",
              "  </div>\n",
              "  "
            ]
          },
          "metadata": {},
          "execution_count": 50
        }
      ],
      "source": [
        "x_norm.head()"
      ]
    },
    {
      "cell_type": "code",
      "source": [
        "from sklearn.linear_model import LogisticRegression\n",
        "from sklearn.metrics import accuracy_score\n",
        "lr = LogisticRegression()"
      ],
      "metadata": {
        "id": "jzruufMbDyGZ"
      },
      "execution_count": 51,
      "outputs": []
    },
    {
      "cell_type": "code",
      "source": [
        "lr.fit(X_train, y_train)\n",
        "y_pred = lr.predict(X_test)\n"
      ],
      "metadata": {
        "id": "EdBdYyHnEKm4"
      },
      "execution_count": 52,
      "outputs": []
    },
    {
      "cell_type": "code",
      "source": [
        "lr_accuracy = round(lr.score(X_train,y_train)*100,2)\n",
        "print(round(lr_accuracy,2),'%')"
      ],
      "metadata": {
        "colab": {
          "base_uri": "https://localhost:8080/"
        },
        "id": "aUjJgeWwE7jL",
        "outputId": "d4049a22-452a-4dbd-d684-a84dd5c45e83"
      },
      "execution_count": 53,
      "outputs": [
        {
          "output_type": "stream",
          "name": "stdout",
          "text": [
            "37.3 %\n"
          ]
        }
      ]
    },
    {
      "cell_type": "code",
      "source": [
        "print(accuracy_score(y_test, y_pred))\n",
        "print(precision_score(y_test, y_pred))\n",
        "print(recall_score(y_test, y_pred))"
      ],
      "metadata": {
        "colab": {
          "base_uri": "https://localhost:8080/"
        },
        "id": "HPjGSiaUE6bZ",
        "outputId": "79c0912b-69d6-45e4-f458-086952b68154"
      },
      "execution_count": 54,
      "outputs": [
        {
          "output_type": "stream",
          "name": "stdout",
          "text": [
            "0.45161290322580644\n",
            "0.0\n",
            "0.0\n"
          ]
        },
        {
          "output_type": "stream",
          "name": "stderr",
          "text": [
            "/usr/local/lib/python3.8/dist-packages/sklearn/metrics/_classification.py:1318: UndefinedMetricWarning: Precision is ill-defined and being set to 0.0 due to no predicted samples. Use `zero_division` parameter to control this behavior.\n",
            "  _warn_prf(average, modifier, msg_start, len(result))\n"
          ]
        }
      ]
    },
    {
      "cell_type": "code",
      "execution_count": 55,
      "metadata": {
        "id": "30k6eHu_8qG9"
      },
      "outputs": [],
      "source": [
        "from sklearn.linear_model import SGDClassifier\n",
        "clf = SGDClassifier(loss='log', learning_rate='constant', eta0=0.1, random_state=13)"
      ]
    },
    {
      "cell_type": "code",
      "execution_count": 56,
      "metadata": {
        "id": "9lRzKpP7v1RU"
      },
      "outputs": [],
      "source": [
        "clf.fit(X_train, y_train)\n",
        "y_pred = clf.predict(X_test)"
      ]
    },
    {
      "cell_type": "code",
      "execution_count": 57,
      "metadata": {
        "colab": {
          "base_uri": "https://localhost:8080/"
        },
        "id": "CJwPgiwNv1RU",
        "outputId": "f6902270-26a7-47c2-eaa7-c9237ba705db"
      },
      "outputs": [
        {
          "output_type": "stream",
          "name": "stdout",
          "text": [
            "62.7 %\n"
          ]
        }
      ],
      "source": [
        "clf_accuracy = round(clf.score(X_train,y_train)*100,2)\n",
        "print(round(clf_accuracy,2),'%')"
      ]
    },
    {
      "cell_type": "code",
      "execution_count": 58,
      "metadata": {
        "colab": {
          "base_uri": "https://localhost:8080/"
        },
        "id": "JTV2JUOv-VyU",
        "outputId": "d67ed523-2bb4-4613-b450-543f00d97c1c"
      },
      "outputs": [
        {
          "output_type": "execute_result",
          "data": {
            "text/plain": [
              "0.5483870967741935"
            ]
          },
          "metadata": {},
          "execution_count": 58
        }
      ],
      "source": [
        "from sklearn.metrics import accuracy_score\n",
        "accuracy_score(y_test, y_pred)"
      ]
    },
    {
      "cell_type": "code",
      "execution_count": null,
      "metadata": {
        "colab": {
          "base_uri": "https://localhost:8080/"
        },
        "id": "dF_b96bs_EN1",
        "outputId": "45355cb6-48be-457b-a3f2-a8ada8e4dca5"
      },
      "outputs": [
        {
          "data": {
            "text/plain": [
              "array([[ 0, 28],\n",
              "       [ 0, 34]])"
            ]
          },
          "execution_count": 54,
          "metadata": {},
          "output_type": "execute_result"
        }
      ],
      "source": [
        "confusion_matrix(y_test, y_pred)"
      ]
    },
    {
      "cell_type": "code",
      "execution_count": null,
      "metadata": {
        "colab": {
          "base_uri": "https://localhost:8080/"
        },
        "id": "lHDRA0wbv1RU",
        "outputId": "71485775-4dfa-4126-bbad-3dcd0bcee7cf"
      },
      "outputs": [
        {
          "data": {
            "text/plain": [
              "0.5483870967741935"
            ]
          },
          "execution_count": 55,
          "metadata": {},
          "output_type": "execute_result"
        }
      ],
      "source": [
        "precision_score(y_test, y_pred)"
      ]
    },
    {
      "cell_type": "code",
      "execution_count": null,
      "metadata": {
        "colab": {
          "base_uri": "https://localhost:8080/"
        },
        "id": "hg96ZOpT_J2Q",
        "outputId": "ccf7543a-00a3-4ccf-cbb1-edbf6dfaeb5d"
      },
      "outputs": [
        {
          "data": {
            "text/plain": [
              "1.0"
            ]
          },
          "execution_count": 56,
          "metadata": {},
          "output_type": "execute_result"
        }
      ],
      "source": [
        "recall_score(y_test, y_pred)"
      ]
    },
    {
      "cell_type": "code",
      "execution_count": 59,
      "metadata": {
        "colab": {
          "base_uri": "https://localhost:8080/"
        },
        "id": "dDc7_nbp_hGF",
        "outputId": "b49abf82-d52f-48aa-dad9-d76880c4a4b7"
      },
      "outputs": [
        {
          "output_type": "execute_result",
          "data": {
            "text/plain": [
              "0.5"
            ]
          },
          "metadata": {},
          "execution_count": 59
        }
      ],
      "source": [
        "from sklearn.metrics import roc_auc_score\n",
        "roc_auc_score(y_test, y_pred)"
      ]
    },
    {
      "cell_type": "code",
      "execution_count": 60,
      "metadata": {
        "id": "M5ex9TQwCG_w"
      },
      "outputs": [],
      "source": [
        "from sklearn.ensemble import RandomForestClassifier"
      ]
    },
    {
      "cell_type": "code",
      "execution_count": 67,
      "metadata": {
        "id": "gRyPhQ1wCG9I",
        "colab": {
          "base_uri": "https://localhost:8080/"
        },
        "outputId": "b167cb3b-0234-46b0-dd36-e322531c028d"
      },
      "outputs": [
        {
          "output_type": "execute_result",
          "data": {
            "text/plain": [
              "RandomForestClassifier(random_state=42)"
            ]
          },
          "metadata": {},
          "execution_count": 67
        }
      ],
      "source": [
        "rnd = RandomForestClassifier(random_state=42)\n",
        "rnd.fit(X_train, y_train)"
      ]
    },
    {
      "cell_type": "code",
      "execution_count": 65,
      "metadata": {
        "id": "H7bCRW2MVUXJ",
        "colab": {
          "base_uri": "https://localhost:8080/"
        },
        "outputId": "336f1015-add2-451f-b62d-9b7e768d58f5"
      },
      "outputs": [
        {
          "output_type": "stream",
          "name": "stdout",
          "text": [
            "67.74 %\n"
          ]
        }
      ],
      "source": [
        "rnd_accuracy = round(rnd.score(X_test,y_test)*100,2)\n",
        "print(round(rnd_accuracy,2),'%')"
      ]
    },
    {
      "cell_type": "code",
      "source": [
        "accuracy_score(y_test, y_pred)"
      ],
      "metadata": {
        "colab": {
          "base_uri": "https://localhost:8080/"
        },
        "id": "kC4VOuteGDLC",
        "outputId": "c684c8ce-d36e-412d-fbbc-7926460b1b98"
      },
      "execution_count": 66,
      "outputs": [
        {
          "output_type": "execute_result",
          "data": {
            "text/plain": [
              "0.5483870967741935"
            ]
          },
          "metadata": {},
          "execution_count": 66
        }
      ]
    },
    {
      "cell_type": "code",
      "execution_count": 63,
      "metadata": {
        "id": "zuKBKqCeCGrM",
        "colab": {
          "base_uri": "https://localhost:8080/"
        },
        "outputId": "22ef17cc-60fc-4df7-b87e-1b88244d0abc"
      },
      "outputs": [
        {
          "output_type": "stream",
          "name": "stdout",
          "text": [
            "[[ 0 28]\n",
            " [ 0 34]]\n",
            "0.5483870967741935\n",
            "1.0\n",
            "0.5\n"
          ]
        }
      ],
      "source": [
        "print(confusion_matrix(y_test, y_pred))\n",
        "print(precision_score(y_test, y_pred))\n",
        "print(recall_score(y_test, y_pred))\n",
        "print(roc_auc_score(y_test, y_pred))"
      ]
    }
  ],
  "metadata": {
    "colab": {
      "provenance": []
    },
    "kernelspec": {
      "display_name": "Python 3",
      "language": "python",
      "name": "python3"
    },
    "language_info": {
      "codemirror_mode": {
        "name": "ipython",
        "version": 3
      },
      "file_extension": ".py",
      "mimetype": "text/x-python",
      "name": "python",
      "nbconvert_exporter": "python",
      "pygments_lexer": "ipython3",
      "version": "3.8.5"
    }
  },
  "nbformat": 4,
  "nbformat_minor": 0
}